{
 "cells": [
  {
   "cell_type": "markdown",
   "metadata": {},
   "source": [
    "# Project 1: Driving Licenses, Traffic Accidents and Casualties Analysis"
   ]
  },
  {
   "cell_type": "markdown",
   "metadata": {},
   "source": [
    "## Problem Statment\n",
    "\n",
    "Craft your problem statement here using the prompt from the README and other sources you find during your investigation."
   ]
  },
  {
   "cell_type": "markdown",
   "metadata": {},
   "source": []
  },
  {
   "cell_type": "markdown",
   "metadata": {},
   "source": [
    "## Executive Summary\n",
    "Write an executive summary that summarizes the problem and your key findings."
   ]
  },
  {
   "cell_type": "markdown",
   "metadata": {},
   "source": []
  },
  {
   "cell_type": "markdown",
   "metadata": {},
   "source": [
    "### Contents:\n",
    "- [Datasets Description](#Datasets-Description)\n",
    "- [Data Import & Cleaning](#Data-Import-and-Cleaning)\n",
    "- [Exploratory Data Analysis](#Exploratory-Data-Analysis)\n",
    "- [Data Visualization](#Visualize-the-data)\n",
    "- [Descriptive and Inferential Statistics](#Descriptive-and-Inferential-Statistics)\n",
    "- [Outside Research](#Outside-Research)\n",
    "- [Conclusions and Recommendations](#Conclusions-and-Recommendations)"
   ]
  },
  {
   "cell_type": "markdown",
   "metadata": {},
   "source": [
    "**If you combine your problem statement, executive summary, data dictionary, and conclusions/recommendations, you have an amazing README.md file that quickly aligns your audience to the contents of your project.** Don't forget to cite your data sources!"
   ]
  },
  {
   "cell_type": "markdown",
   "metadata": {},
   "source": [
    "*All libraries used should be added here, including any Jupyter magic commands*"
   ]
  },
  {
   "cell_type": "code",
   "execution_count": 451,
   "metadata": {},
   "outputs": [],
   "source": [
    "#Imports\n",
    "# !pip install pandas\n",
    "import pandas as pd\n",
    "import numpy as np\n",
    "from scipy import stats\n",
    "import seaborn as sns\n",
    "import matplotlib.pyplot as plt\n",
    "%matplotlib inline"
   ]
  },
  {
   "cell_type": "markdown",
   "metadata": {},
   "source": [
    "## Datasets Description\n",
    "\n",
    "[Driving Licenses](https://datasource.kapsarc.org/explore/dataset/saudi-arabia-driving-licenses-issued-in-the-kingdom-2004-2008/information/?disjunctive.administritive_area&sort=time_period&location=5,24.37495,45.08024&basemap=jawg.streets)\n",
    "This dataset contains Saudi Arabia Driving Licenses Issued By Administrative Area for 1993 - 2016. Data from General Authority for Statistics . Follow datasource.kapsarc.org for timely data to advance energy economics research.\n",
    "\n",
    "[Traffic Accidents and Casualties](https://datasource.kapsarc.org/explore/dataset/saudi-arabia-traffic-accidents-and-casualties-injured-dead-2008/export/?disjunctive.region&disjunctive.indicator&sort=time_period)\n",
    "This dataset contains Saudi Arabia Traffic Accidents and Casualties by Region for 2016. Data from General Authority for Statistics. Follow datasource.kapsarc.org for timely data to advance energy economics research.\n"
   ]
  },
  {
   "cell_type": "markdown",
   "metadata": {},
   "source": [
    "## Data Import and Cleaning"
   ]
  },
  {
   "cell_type": "markdown",
   "metadata": {},
   "source": [
    "#### 1. Read In Driving Licenses & Traffic Accidents Data\n",
    "Read in the `saudi-arabia-traffic-accidents-2008.csv` and `saudi-arabia-driving-licenses-2004-2008.csv` files and assign them to appropriately named pandas dataframes."
   ]
  },
  {
   "cell_type": "code",
   "execution_count": 452,
   "metadata": {},
   "outputs": [],
   "source": [
    "#Code\n",
    "t_accident = pd.read_csv('./../data/saudi-arabia-traffic-accidents-2008.csv', sep=';')\n",
    "t_licenses =  pd.read_csv('./../data/saudi-arabia-driving-licenses-2004-2008.csv', sep=';')\n"
   ]
  },
  {
   "cell_type": "code",
   "execution_count": 453,
   "metadata": {},
   "outputs": [
    {
     "data": {
      "text/html": [
       "<div>\n",
       "<style scoped>\n",
       "    .dataframe tbody tr th:only-of-type {\n",
       "        vertical-align: middle;\n",
       "    }\n",
       "\n",
       "    .dataframe tbody tr th {\n",
       "        vertical-align: top;\n",
       "    }\n",
       "\n",
       "    .dataframe thead th {\n",
       "        text-align: right;\n",
       "    }\n",
       "</style>\n",
       "<table border=\"1\" class=\"dataframe\">\n",
       "  <thead>\n",
       "    <tr style=\"text-align: right;\">\n",
       "      <th></th>\n",
       "      <th>Year</th>\n",
       "      <th>Region</th>\n",
       "      <th>Indicator</th>\n",
       "      <th>Value</th>\n",
       "      <th>geo_point_2d</th>\n",
       "    </tr>\n",
       "  </thead>\n",
       "  <tbody>\n",
       "    <tr>\n",
       "      <th>0</th>\n",
       "      <td>(2016)</td>\n",
       "      <td>Makkah</td>\n",
       "      <td>No. of Casualties - Injured</td>\n",
       "      <td>12383n</td>\n",
       "      <td>21.628962766, 41.2636898334</td>\n",
       "    </tr>\n",
       "    <tr>\n",
       "      <th>1</th>\n",
       "      <td>(2016)</td>\n",
       "      <td>Eastern Region</td>\n",
       "      <td>No. of Casualties - Dead</td>\n",
       "      <td>1113n</td>\n",
       "      <td>23.2883307307, 50.1478302439</td>\n",
       "    </tr>\n",
       "    <tr>\n",
       "      <th>2</th>\n",
       "      <td>(2016)</td>\n",
       "      <td>Tabouk</td>\n",
       "      <td>No. of Casualties - Dead</td>\n",
       "      <td>434n</td>\n",
       "      <td>27.90165499, 37.2598581394</td>\n",
       "    </tr>\n",
       "    <tr>\n",
       "      <th>3</th>\n",
       "      <td>(2016)</td>\n",
       "      <td>Hail</td>\n",
       "      <td>No. of Casualties - Dead</td>\n",
       "      <td>299n</td>\n",
       "      <td>27.400845724, 41.4406960508</td>\n",
       "    </tr>\n",
       "    <tr>\n",
       "      <th>4</th>\n",
       "      <td>(2016)</td>\n",
       "      <td>Hail</td>\n",
       "      <td>No. of Accidents</td>\n",
       "      <td>10199n</td>\n",
       "      <td>27.400845724, 41.4406960508</td>\n",
       "    </tr>\n",
       "  </tbody>\n",
       "</table>\n",
       "</div>"
      ],
      "text/plain": [
       "     Year          Region                    Indicator   Value  \\\n",
       "0  (2016)          Makkah  No. of Casualties - Injured  12383n   \n",
       "1  (2016)  Eastern Region     No. of Casualties - Dead   1113n   \n",
       "2  (2016)          Tabouk     No. of Casualties - Dead    434n   \n",
       "3  (2016)            Hail     No. of Casualties - Dead    299n   \n",
       "4  (2016)            Hail             No. of Accidents  10199n   \n",
       "\n",
       "                   geo_point_2d  \n",
       "0   21.628962766, 41.2636898334  \n",
       "1  23.2883307307, 50.1478302439  \n",
       "2    27.90165499, 37.2598581394  \n",
       "3   27.400845724, 41.4406960508  \n",
       "4   27.400845724, 41.4406960508  "
      ]
     },
     "execution_count": 453,
     "metadata": {},
     "output_type": "execute_result"
    }
   ],
   "source": [
    "# First two columns is dump, start from third col \n",
    "t_accident.iloc[:,2:].head(5)"
   ]
  },
  {
   "cell_type": "code",
   "execution_count": 454,
   "metadata": {},
   "outputs": [
    {
     "data": {
      "text/html": [
       "<div>\n",
       "<style scoped>\n",
       "    .dataframe tbody tr th:only-of-type {\n",
       "        vertical-align: middle;\n",
       "    }\n",
       "\n",
       "    .dataframe tbody tr th {\n",
       "        vertical-align: top;\n",
       "    }\n",
       "\n",
       "    .dataframe thead th {\n",
       "        text-align: right;\n",
       "    }\n",
       "</style>\n",
       "<table border=\"1\" class=\"dataframe\">\n",
       "  <thead>\n",
       "    <tr style=\"text-align: right;\">\n",
       "      <th></th>\n",
       "      <th>Year</th>\n",
       "      <th>Administritive Area</th>\n",
       "      <th>Driving Liceses</th>\n",
       "      <th>geo_point_2d</th>\n",
       "    </tr>\n",
       "  </thead>\n",
       "  <tbody>\n",
       "    <tr>\n",
       "      <th>0</th>\n",
       "      <td>(2012)</td>\n",
       "      <td>Makkah</td>\n",
       "      <td>143954n</td>\n",
       "      <td>21.628962766, 41.2636898334</td>\n",
       "    </tr>\n",
       "    <tr>\n",
       "      <th>1</th>\n",
       "      <td>(1994)</td>\n",
       "      <td>Makkah</td>\n",
       "      <td>75349n</td>\n",
       "      <td>21.628962766, 41.2636898334</td>\n",
       "    </tr>\n",
       "    <tr>\n",
       "      <th>2</th>\n",
       "      <td>(1998)</td>\n",
       "      <td>Makkah</td>\n",
       "      <td>86082n</td>\n",
       "      <td>21.628962766, 41.2636898334</td>\n",
       "    </tr>\n",
       "    <tr>\n",
       "      <th>3</th>\n",
       "      <td>(2004)</td>\n",
       "      <td>Makkah</td>\n",
       "      <td>86636n</td>\n",
       "      <td>21.628962766, 41.2636898334</td>\n",
       "    </tr>\n",
       "    <tr>\n",
       "      <th>4</th>\n",
       "      <td>(2005)</td>\n",
       "      <td>Makkah</td>\n",
       "      <td>65099n</td>\n",
       "      <td>21.628962766, 41.2636898334</td>\n",
       "    </tr>\n",
       "  </tbody>\n",
       "</table>\n",
       "</div>"
      ],
      "text/plain": [
       "     Year Administritive Area Driving Liceses                 geo_point_2d\n",
       "0  (2012)              Makkah         143954n  21.628962766, 41.2636898334\n",
       "1  (1994)              Makkah          75349n  21.628962766, 41.2636898334\n",
       "2  (1998)              Makkah          86082n  21.628962766, 41.2636898334\n",
       "3  (2004)              Makkah          86636n  21.628962766, 41.2636898334\n",
       "4  (2005)              Makkah          65099n  21.628962766, 41.2636898334"
      ]
     },
     "execution_count": 454,
     "metadata": {},
     "output_type": "execute_result"
    }
   ],
   "source": [
    "t_licenses.iloc[:,1:].head()"
   ]
  },
  {
   "cell_type": "code",
   "execution_count": 455,
   "metadata": {},
   "outputs": [],
   "source": [
    "# Drop unmeaning columns\n",
    "t_accident.drop(columns=['Unnamed: 0'], inplace=True)\n",
    "t_accident.drop(columns=['Unnamed: 0.1'], inplace=True) \n",
    "t_licenses.drop(columns=['Unnamed: 0'], inplace=True) "
   ]
  },
  {
   "cell_type": "code",
   "execution_count": 456,
   "metadata": {},
   "outputs": [],
   "source": [
    "# Delete square brackets from year col in t_accident\n",
    "# Regex way\n",
    "pattern_brackets = [r'\\(*\\)','\\(?']\n",
    "pattern_digit = r'[^0-9]'\n",
    "t_accident.Year.replace(pattern_brackets, '', inplace=True, regex=True)\n",
    "t_licenses.Year.replace(pattern_brackets, '', inplace=True, regex=True)\n",
    "\n",
    "# Delete letters from Value in accidents and Driving Liceses in licenses\n",
    "t_accident.Value.replace(pattern_digit, '', inplace=True, regex=True)\n",
    "t_licenses['Driving Liceses'].replace(pattern_digit, '', inplace=True, regex=True)"
   ]
  },
  {
   "cell_type": "markdown",
   "metadata": {},
   "source": [
    "#### 2. Display data\n",
    "\n",
    "Print the first 10 rows of each dataframe to your jupyter notebook"
   ]
  },
  {
   "cell_type": "code",
   "execution_count": 457,
   "metadata": {},
   "outputs": [
    {
     "name": "stdout",
     "output_type": "stream",
     "text": [
      "   Year            Region                    Indicator  Value  \\\n",
      "0  2016            Makkah  No. of Casualties - Injured  12383   \n",
      "1  2016    Eastern Region     No. of Casualties - Dead   1113   \n",
      "2  2016            Tabouk     No. of Casualties - Dead    434   \n",
      "3  2016              Hail     No. of Casualties - Dead    299   \n",
      "4  2016              Hail             No. of Accidents  10199   \n",
      "5  2016  Northern Boarder     No. of Casualties - Dead    193   \n",
      "6  2017             Jazan             No. of Accidents  22161   \n",
      "7  2017           Al-Jouf             No. of Accidents  10469   \n",
      "8  2017             Total     No. of Casualties - Dead   7489   \n",
      "9  2016  Northern Boarder  No. of Casualties - Injured    631   \n",
      "\n",
      "                   geo_point_2d  \n",
      "0   21.628962766, 41.2636898334  \n",
      "1  23.2883307307, 50.1478302439  \n",
      "2    27.90165499, 37.2598581394  \n",
      "3   27.400845724, 41.4406960508  \n",
      "4   27.400845724, 41.4406960508  \n",
      "5   30.197074783, 41.8171186952  \n",
      "6  17.2072313962, 42.6525807422  \n",
      "7  29.9677445762, 39.5570371172  \n",
      "8                           NaN  \n",
      "9   30.197074783, 41.8171186952  \n"
     ]
    }
   ],
   "source": [
    "#Code\n",
    "print(t_accident.head(10))"
   ]
  },
  {
   "cell_type": "markdown",
   "metadata": {},
   "source": [
    "#### 3. Briefly describe the data\n",
    "\n",
    "Take your time looking through the data and briefly describe the data in the markdown cell below. Note things about what the columns might mean, and the general information that is conveyed in the dataframe."
   ]
  },
  {
   "cell_type": "markdown",
   "metadata": {},
   "source": [
    "# Answer: \n",
    "traffic-accidents\n",
    "Year: All accident happened between 2016 and 2017.\n",
    "Region: 14 different region with 6 accident per each.\n",
    "geo_point_2d: it's refering to region location, we can fill missing values with refering to region value.\n",
    "\n",
    "driving-licenses:\n",
    "There is 350 record\n",
    "Year: we have values from 25 different years, with same number of licenses issuance per year which is 14 licenses, \n",
    "geo_point_2d: We have missing 25 values.\n",
    "Administritive Area: we have 25 area.\n",
    "describe()\n",
    "value_counts()"
   ]
  },
  {
   "cell_type": "code",
   "execution_count": 458,
   "metadata": {},
   "outputs": [
    {
     "data": {
      "text/html": [
       "<div>\n",
       "<style scoped>\n",
       "    .dataframe tbody tr th:only-of-type {\n",
       "        vertical-align: middle;\n",
       "    }\n",
       "\n",
       "    .dataframe tbody tr th {\n",
       "        vertical-align: top;\n",
       "    }\n",
       "\n",
       "    .dataframe thead th {\n",
       "        text-align: right;\n",
       "    }\n",
       "</style>\n",
       "<table border=\"1\" class=\"dataframe\">\n",
       "  <thead>\n",
       "    <tr style=\"text-align: right;\">\n",
       "      <th></th>\n",
       "      <th>Year</th>\n",
       "      <th>Region</th>\n",
       "      <th>Indicator</th>\n",
       "      <th>Value</th>\n",
       "      <th>geo_point_2d</th>\n",
       "    </tr>\n",
       "  </thead>\n",
       "  <tbody>\n",
       "    <tr>\n",
       "      <th>8</th>\n",
       "      <td>2017</td>\n",
       "      <td>Total</td>\n",
       "      <td>No. of Casualties - Dead</td>\n",
       "      <td>7489</td>\n",
       "      <td>NaN</td>\n",
       "    </tr>\n",
       "    <tr>\n",
       "      <th>29</th>\n",
       "      <td>2016</td>\n",
       "      <td>Total</td>\n",
       "      <td>No. of Accidents</td>\n",
       "      <td>533380</td>\n",
       "      <td>NaN</td>\n",
       "    </tr>\n",
       "    <tr>\n",
       "      <th>30</th>\n",
       "      <td>2016</td>\n",
       "      <td>Total</td>\n",
       "      <td>No. of Casualties - Injured</td>\n",
       "      <td>38120</td>\n",
       "      <td>NaN</td>\n",
       "    </tr>\n",
       "    <tr>\n",
       "      <th>68</th>\n",
       "      <td>2017</td>\n",
       "      <td>Total</td>\n",
       "      <td>No. of Accidents</td>\n",
       "      <td>460488</td>\n",
       "      <td>NaN</td>\n",
       "    </tr>\n",
       "    <tr>\n",
       "      <th>69</th>\n",
       "      <td>2017</td>\n",
       "      <td>Total</td>\n",
       "      <td>No. of Casualties - Injured</td>\n",
       "      <td>33199</td>\n",
       "      <td>NaN</td>\n",
       "    </tr>\n",
       "    <tr>\n",
       "      <th>77</th>\n",
       "      <td>2016</td>\n",
       "      <td>Total</td>\n",
       "      <td>No. of Casualties - Dead</td>\n",
       "      <td>9031</td>\n",
       "      <td>NaN</td>\n",
       "    </tr>\n",
       "  </tbody>\n",
       "</table>\n",
       "</div>"
      ],
      "text/plain": [
       "    Year Region                    Indicator   Value geo_point_2d\n",
       "8   2017  Total     No. of Casualties - Dead    7489          NaN\n",
       "29  2016  Total             No. of Accidents  533380          NaN\n",
       "30  2016  Total  No. of Casualties - Injured   38120          NaN\n",
       "68  2017  Total             No. of Accidents  460488          NaN\n",
       "69  2017  Total  No. of Casualties - Injured   33199          NaN\n",
       "77  2016  Total     No. of Casualties - Dead    9031          NaN"
      ]
     },
     "execution_count": 458,
     "metadata": {},
     "output_type": "execute_result"
    }
   ],
   "source": [
    "t_accident.describe()\n",
    "t_accident[t_accident.isna().any(axis=1)]"
   ]
  },
  {
   "cell_type": "markdown",
   "metadata": {},
   "source": [
    "#### 4a. How complete is the data?\n",
    "\n",
    "Investigate missing values etc."
   ]
  },
  {
   "cell_type": "code",
   "execution_count": 459,
   "metadata": {},
   "outputs": [
    {
     "data": {
      "text/plain": [
       "(Year            0\n",
       " Region          0\n",
       " Indicator       0\n",
       " Value           0\n",
       " geo_point_2d    6\n",
       " dtype: int64, Year                    0\n",
       " Administritive Area     0\n",
       " Driving Liceses         0\n",
       " geo_point_2d           25\n",
       " dtype: int64)"
      ]
     },
     "execution_count": 459,
     "metadata": {},
     "output_type": "execute_result"
    }
   ],
   "source": [
    "# We have 25 value missing of  geo_point_2d in t_licenses\n",
    "t_accident.isnull().sum(), t_licenses.isnull().sum()"
   ]
  },
  {
   "cell_type": "markdown",
   "metadata": {},
   "source": [
    "#### 4b. Are there any obvious issues with the observations?\n",
    "\n",
    "### We have 25 value missing of  geo_point_2d in t_licenses"
   ]
  },
  {
   "cell_type": "markdown",
   "metadata": {},
   "source": [
    "**What is the minimum *possible* value for each dataset? What is the maximum *possible* value?**"
   ]
  },
  {
   "cell_type": "code",
   "execution_count": 460,
   "metadata": {},
   "outputs": [
    {
     "name": "stdout",
     "output_type": "stream",
     "text": [
      "Year                      1993\n",
      "Administritive Area    Al-Baha\n",
      "Driving Liceses         100291\n",
      "dtype: object Year                    2017\n",
      "Administritive Area    Total\n",
      "Driving Liceses         9983\n",
      "dtype: object\n"
     ]
    }
   ],
   "source": [
    "#Code\n",
    "t_accident.min(), t_accident.max()\n",
    "\n",
    "print(t_licenses.min(), t_licenses.max())"
   ]
  },
  {
   "cell_type": "markdown",
   "metadata": {},
   "source": [
    "#### 5. What are your data types? \n",
    "Display the data types of each feature. "
   ]
  },
  {
   "cell_type": "code",
   "execution_count": 461,
   "metadata": {
    "scrolled": true
   },
   "outputs": [
    {
     "data": {
      "text/plain": [
       "(Year            object\n",
       " Region          object\n",
       " Indicator       object\n",
       " Value           object\n",
       " geo_point_2d    object\n",
       " dtype: object, Year                   object\n",
       " Administritive Area    object\n",
       " Driving Liceses        object\n",
       " geo_point_2d           object\n",
       " dtype: object)"
      ]
     },
     "execution_count": 461,
     "metadata": {},
     "output_type": "execute_result"
    }
   ],
   "source": [
    "#code\n",
    "t_accident.dtypes, t_licenses.dtypes"
   ]
  },
  {
   "cell_type": "markdown",
   "metadata": {},
   "source": [
    "What did you learn?\n",
    "- Do any of them seem odd?  \n",
    "- Which ones are not as they should be?  "
   ]
  },
  {
   "cell_type": "markdown",
   "metadata": {},
   "source": [
    "Answer:\n",
    "Year on both should be numeric\n",
    "Value to be numeric\n",
    "Driving license should be int\n",
    "geo_point_2d should be float"
   ]
  },
  {
   "cell_type": "markdown",
   "metadata": {},
   "source": [
    "#### 6. Fix incorrect data types\n",
    "Based on what you discovered above, use appropriate methods to re-type incorrectly typed data.\n",
    "- Define a function that will allow you to convert numerical columns to an appropriate numeric type. Use `map` or `apply` to change these columns in each dataframe."
   ]
  },
  {
   "cell_type": "code",
   "execution_count": 462,
   "metadata": {},
   "outputs": [],
   "source": [
    "def to_float(x):\n",
    "    try:\n",
    "        float(x)\n",
    "        return float(x)\n",
    "    except ValueError:\n",
    "        return x\n",
    "    \n",
    "def to_int(x):\n",
    "    try:\n",
    "        int(x)\n",
    "        return int(x)\n",
    "    except ValueError:\n",
    "        return x"
   ]
  },
  {
   "cell_type": "code",
   "execution_count": 463,
   "metadata": {},
   "outputs": [
    {
     "name": "stdout",
     "output_type": "stream",
     "text": [
      "Year                    int64\n",
      "Administritive Area    object\n",
      "Driving Liceses         int64\n",
      "geo_point_2d           object\n",
      "dtype: object Year             int64\n",
      "Region          object\n",
      "Indicator       object\n",
      "Value            int64\n",
      "geo_point_2d    object\n",
      "dtype: object\n"
     ]
    }
   ],
   "source": [
    "#code\n",
    "# t_accident part\n",
    "t_accident['Year'] = pd.to_numeric(t_accident['Year'])\n",
    "t_accident['Value'] = pd.to_numeric(t_accident['Value'])\n",
    "\n",
    "# t_licenses part\n",
    "t_licenses['Year'] = t_licenses['Year'].apply(to_int) # to_numeric(t_licenses['Year'])\n",
    "t_licenses['Driving Liceses'] = pd.to_numeric(t_licenses['Driving Liceses']) # t_licenses['Driving Liceses'].apply(to_int)\n",
    "\n",
    "\n",
    "print(t_licenses.dtypes, t_accident.dtypes)"
   ]
  },
  {
   "cell_type": "markdown",
   "metadata": {},
   "source": [
    "- Make new columns `x` and `y` using `geo_point_2d`"
   ]
  },
  {
   "cell_type": "code",
   "execution_count": 464,
   "metadata": {},
   "outputs": [],
   "source": [
    "#code\n",
    "\n",
    "\n",
    "geo_point_2d = t_accident['geo_point_2d'].str.split(',')\n",
    "y = []\n",
    "x = []\n",
    "try:\n",
    "    for i in geo_point_2d:\n",
    "        if isinstance(i, list):\n",
    "            x.append(i[0])\n",
    "            y.append(i[1])\n",
    "        else:\n",
    "            x.append(None)\n",
    "            y.append(None)\n",
    "        \n",
    "except:\n",
    "    pass\n",
    "\n",
    "len(x), len(y), len(geo_point_2d)\n",
    "t_accident['X'] = x\n",
    "t_accident['Y'] = y\n",
    "\n",
    "# t_licenses part (another way)\n",
    "t_licenses['X'], t_licenses['Y'] = t_licenses['geo_point_2d'].str.split(',', 1).str\n",
    "\n"
   ]
  },
  {
   "cell_type": "markdown",
   "metadata": {},
   "source": [
    "- Fix any individual values preventing other columns from being the appropriate type."
   ]
  },
  {
   "cell_type": "code",
   "execution_count": 465,
   "metadata": {},
   "outputs": [],
   "source": [
    "#code\n",
    "\n",
    "# Delete null rows\n",
    "# t_accide1`es.dropna(inplace=True)\n",
    "\n",
    "\n",
    "# All columns in it's appropriate type.\n",
    "t_accident.X = t_accident.X.astype(float)\n",
    "t_accident.Y = t_accident.Y.astype(float)\n",
    "\n",
    "# Some columns have comma, to be deleted\n",
    "t_licenses.X = t_licenses.X.str.replace(\",\", '')\n",
    "t_licenses.X = t_licenses.X.astype(float)\n",
    "t_licenses.Y = t_licenses.Y.astype(float)\n",
    "\n",
    "# t_licenses.dtypes,t_accident.dtypes\n"
   ]
  },
  {
   "cell_type": "code",
   "execution_count": 466,
   "metadata": {},
   "outputs": [],
   "source": [
    "# Unifie values names\n",
    "\n",
    "t_accident[\"Region\"] = t_accident[\"Region\"].str.replace(\"Qassim\",\"Al-Qaseem\")\n",
    "t_accident[\"Region\"] = t_accident[\"Region\"].str.replace(\"Eastern Region\",\"Eastern\")\n",
    "# One way \n",
    "t_accident[\"Region\"] = t_accident[\"Region\"].str.replace(\"Asir\",\"Assir\")\n",
    "# Another way\n",
    "t_accident[\"Region\"] = t_accident[\"Region\"].apply(lambda x : str(x).replace(\"Al-Baaha\",\"Al-Baha\"))"
   ]
  },
  {
   "cell_type": "markdown",
   "metadata": {},
   "source": [
    "- Finish your data modifications by making sure the columns are now typed appropriately."
   ]
  },
  {
   "cell_type": "code",
   "execution_count": 467,
   "metadata": {},
   "outputs": [
    {
     "data": {
      "text/plain": [
       "(Year              int64\n",
       " Region           object\n",
       " Indicator        object\n",
       " Value             int64\n",
       " geo_point_2d     object\n",
       " X               float64\n",
       " Y               float64\n",
       " dtype: object, Year                     int64\n",
       " Administritive Area     object\n",
       " Driving Liceses          int64\n",
       " geo_point_2d            object\n",
       " X                      float64\n",
       " Y                      float64\n",
       " dtype: object)"
      ]
     },
     "execution_count": 467,
     "metadata": {},
     "output_type": "execute_result"
    }
   ],
   "source": [
    "#code\n",
    "t_accident.dtypes, t_licenses.dtypes"
   ]
  },
  {
   "cell_type": "markdown",
   "metadata": {},
   "source": [
    "- Display the data types again to confirm they are correct."
   ]
  },
  {
   "cell_type": "code",
   "execution_count": 468,
   "metadata": {},
   "outputs": [
    {
     "data": {
      "text/plain": [
       "(Year              int64\n",
       " Region           object\n",
       " Indicator        object\n",
       " Value             int64\n",
       " geo_point_2d     object\n",
       " X               float64\n",
       " Y               float64\n",
       " dtype: object, Year                     int64\n",
       " Administritive Area     object\n",
       " Driving Liceses          int64\n",
       " geo_point_2d            object\n",
       " X                      float64\n",
       " Y                      float64\n",
       " dtype: object)"
      ]
     },
     "execution_count": 468,
     "metadata": {},
     "output_type": "execute_result"
    }
   ],
   "source": [
    "#Code:\n",
    "t_accident.dtypes, t_licenses.dtypes"
   ]
  },
  {
   "cell_type": "markdown",
   "metadata": {},
   "source": [
    "#### 7. Rename columns\n",
    "Change the names of the columns to more expressive names so that you can tell the difference the Driving Licenses  columns and the & Traffic Accidents columns. Your solution should map all column names being changed at once (no repeated singular name-changes). **We will be combining these two datasets, and so you should name columns in an appropriate way**.\n",
    "\n",
    "**Guidelines**:\n",
    "- Column names should be all lowercase (you will thank yourself when you start pushing data to SQL later in the course)\n",
    "- Column names should not contain spaces (underscores will suffice--this allows for using the `df.column_name` method to access columns in addition to `df['column_name']`.\n",
    "- Column names should be unique and informative (the only feature that we actually share between dataframes is the state).\n",
    "- Please also fix any typos you see in the column names."
   ]
  },
  {
   "cell_type": "code",
   "execution_count": 469,
   "metadata": {},
   "outputs": [],
   "source": [
    "#code\n",
    "t_accident.columns = [x.lower() for x in t_accident.columns]\n",
    "t_accident.columns = t_accident.columns.str.replace(' ', '_')\n",
    "\n",
    "\n",
    "t_licenses.columns = map(str.lower, t_licenses.columns)\n",
    "t_licenses.columns = t_licenses.columns.str.replace(' ', '_')\n",
    "\n",
    "t_licenses.rename(columns={'administritive_area':'region', 'driving_liceses':'driving_licenses'}, inplace=True) # ,'':'','':'' \n",
    "t_accident.rename(columns={'value':'no_accidents'}, inplace=True)"
   ]
  },
  {
   "cell_type": "markdown",
   "metadata": {},
   "source": [
    "#### 8. Create a data dictionary\n",
    "\n",
    "Now that we've fixed our data, and given it appropriate names, let's create a [data dictionary](http://library.ucmerced.edu/node/10249). \n",
    "\n",
    "A data dictionary provides a quick overview of features/variables/columns, alongside data types and descriptions. The more descriptive you can be, the more useful this document is.\n",
    "\n",
    "Example of a Fictional Data Dictionary Entry: \n",
    "\n",
    "|Feature|Type|Dataset|Description|\n",
    "|---|---|---|---|\n",
    "|**county_pop**|*integer*|2010 census|The population of the county (units in thousands, where 2.5 represents 2500 people).| \n",
    "|**per_poverty**|*float*|2010 census|The percent of the county over the age of 18 living below the 200% of official US poverty rate (units percent to two decimal places 98.10 means 98.1%)|\n",
    "\n",
    "[Here's a quick link to a short guide for formatting markdown in Jupyter notebooks](https://jupyter-notebook.readthedocs.io/en/stable/examples/Notebook/Working%20With%20Markdown%20Cells.html).\n",
    "\n",
    "Provided is the skeleton for formatting a markdown table, with columns headers that will help you create a data dictionary to quickly summarize your data, as well as some examples. **This would be a great thing to copy and paste into your custom README for this project.**"
   ]
  },
  {
   "cell_type": "markdown",
   "metadata": {},
   "source": [
    "|Feature|Type|Dataset|Description|\n",
    "|---|---|---|---|\n",
    "|year|int|Traffic Accidents|Year in which the accident occured| \n",
    "|region|object|Traffic Accidents|Region in which the accident occured| \n",
    "|indicator|object|Traffic Accidents|Measurement about the demages (No. of accidents - No. of accidents - No. of dead)| \n",
    "|value|int|Traffic Accidents|value of the indicator| \n",
    "|geo_point_2d|object|Traffic Accidents|Location of center the city where the accident occured| \n",
    "|x|float|Traffic Accidents|longitude of center the city| \n",
    "|y|float|Traffic Accidents|Latitude of center the city| "
   ]
  },
  {
   "cell_type": "markdown",
   "metadata": {},
   "source": [
    "|Feature|Type|Dataset|Description|\n",
    "|---|---|---|---|\n",
    "|year|int|Traffic Accidents|Year in which the accident occured| \n",
    "|region|object|Traffic Accidents|Region in which the accident occured| \n",
    "|driving_licenses|int|Traffic Accidents|Number of issued licenses per year| \n",
    "|geo_point_2d|object|Driving Licenses|Location of center the city where the accident occured| \n",
    "|x|float|Driving Licenses|longitude of center the city| \n",
    "|y|float|Driving Licenses|Latitude of center the city| "
   ]
  },
  {
   "cell_type": "markdown",
   "metadata": {},
   "source": [
    "#### 9. Drop unnecessary rows\n",
    "\n",
    "This study concerns accident and license in regions/area. Please do the followings:\n",
    "0. Which rows are not associated with regions?\n",
    "1. Confirm the numbers of all regions add up to total.\n",
    "2. Remove the rows that are not associated with regions"
   ]
  },
  {
   "cell_type": "code",
   "execution_count": 470,
   "metadata": {},
   "outputs": [
    {
     "data": {
      "text/html": [
       "<div>\n",
       "<style scoped>\n",
       "    .dataframe tbody tr th:only-of-type {\n",
       "        vertical-align: middle;\n",
       "    }\n",
       "\n",
       "    .dataframe tbody tr th {\n",
       "        vertical-align: top;\n",
       "    }\n",
       "\n",
       "    .dataframe thead th {\n",
       "        text-align: right;\n",
       "    }\n",
       "</style>\n",
       "<table border=\"1\" class=\"dataframe\">\n",
       "  <thead>\n",
       "    <tr style=\"text-align: right;\">\n",
       "      <th></th>\n",
       "      <th>year</th>\n",
       "      <th>region</th>\n",
       "      <th>indicator</th>\n",
       "      <th>no_accidents</th>\n",
       "      <th>geo_point_2d</th>\n",
       "      <th>x</th>\n",
       "      <th>y</th>\n",
       "    </tr>\n",
       "  </thead>\n",
       "  <tbody>\n",
       "    <tr>\n",
       "      <th>8</th>\n",
       "      <td>2017</td>\n",
       "      <td>Total</td>\n",
       "      <td>No. of Casualties - Dead</td>\n",
       "      <td>7489</td>\n",
       "      <td>NaN</td>\n",
       "      <td>NaN</td>\n",
       "      <td>NaN</td>\n",
       "    </tr>\n",
       "    <tr>\n",
       "      <th>29</th>\n",
       "      <td>2016</td>\n",
       "      <td>Total</td>\n",
       "      <td>No. of Accidents</td>\n",
       "      <td>533380</td>\n",
       "      <td>NaN</td>\n",
       "      <td>NaN</td>\n",
       "      <td>NaN</td>\n",
       "    </tr>\n",
       "    <tr>\n",
       "      <th>30</th>\n",
       "      <td>2016</td>\n",
       "      <td>Total</td>\n",
       "      <td>No. of Casualties - Injured</td>\n",
       "      <td>38120</td>\n",
       "      <td>NaN</td>\n",
       "      <td>NaN</td>\n",
       "      <td>NaN</td>\n",
       "    </tr>\n",
       "    <tr>\n",
       "      <th>68</th>\n",
       "      <td>2017</td>\n",
       "      <td>Total</td>\n",
       "      <td>No. of Accidents</td>\n",
       "      <td>460488</td>\n",
       "      <td>NaN</td>\n",
       "      <td>NaN</td>\n",
       "      <td>NaN</td>\n",
       "    </tr>\n",
       "    <tr>\n",
       "      <th>69</th>\n",
       "      <td>2017</td>\n",
       "      <td>Total</td>\n",
       "      <td>No. of Casualties - Injured</td>\n",
       "      <td>33199</td>\n",
       "      <td>NaN</td>\n",
       "      <td>NaN</td>\n",
       "      <td>NaN</td>\n",
       "    </tr>\n",
       "    <tr>\n",
       "      <th>77</th>\n",
       "      <td>2016</td>\n",
       "      <td>Total</td>\n",
       "      <td>No. of Casualties - Dead</td>\n",
       "      <td>9031</td>\n",
       "      <td>NaN</td>\n",
       "      <td>NaN</td>\n",
       "      <td>NaN</td>\n",
       "    </tr>\n",
       "  </tbody>\n",
       "</table>\n",
       "</div>"
      ],
      "text/plain": [
       "    year region                    indicator  no_accidents geo_point_2d   x  \\\n",
       "8   2017  Total     No. of Casualties - Dead          7489          NaN NaN   \n",
       "29  2016  Total             No. of Accidents        533380          NaN NaN   \n",
       "30  2016  Total  No. of Casualties - Injured         38120          NaN NaN   \n",
       "68  2017  Total             No. of Accidents        460488          NaN NaN   \n",
       "69  2017  Total  No. of Casualties - Injured         33199          NaN NaN   \n",
       "77  2016  Total     No. of Casualties - Dead          9031          NaN NaN   \n",
       "\n",
       "     y  \n",
       "8  NaN  \n",
       "29 NaN  \n",
       "30 NaN  \n",
       "68 NaN  \n",
       "69 NaN  \n",
       "77 NaN  "
      ]
     },
     "execution_count": 470,
     "metadata": {},
     "output_type": "execute_result"
    }
   ],
   "source": [
    "# 0. Which rows are not associated with regions?\n",
    "# t_accident.region.value_counts() # Total not associated with the dataset\n",
    "t_accident[t_accident['region'] == 'Total']"
   ]
  },
  {
   "cell_type": "code",
   "execution_count": 471,
   "metadata": {},
   "outputs": [],
   "source": [
    "#code\n",
    "# 1- Not associated with region\n",
    "# 2- Confirm the numbers of all regions add up to total \n",
    "\n",
    "t_accident.drop(columns=['geo_point_2d'], inplace=True) \n",
    "t_licenses.drop(columns=['geo_point_2d'], inplace=True) "
   ]
  },
  {
   "cell_type": "code",
   "execution_count": 472,
   "metadata": {},
   "outputs": [
    {
     "data": {
      "text/html": [
       "<div>\n",
       "<style scoped>\n",
       "    .dataframe tbody tr th:only-of-type {\n",
       "        vertical-align: middle;\n",
       "    }\n",
       "\n",
       "    .dataframe tbody tr th {\n",
       "        vertical-align: top;\n",
       "    }\n",
       "\n",
       "    .dataframe thead th {\n",
       "        text-align: right;\n",
       "    }\n",
       "</style>\n",
       "<table border=\"1\" class=\"dataframe\">\n",
       "  <thead>\n",
       "    <tr style=\"text-align: right;\">\n",
       "      <th></th>\n",
       "      <th></th>\n",
       "      <th>no_accidents</th>\n",
       "      <th>x</th>\n",
       "      <th>y</th>\n",
       "    </tr>\n",
       "    <tr>\n",
       "      <th>year</th>\n",
       "      <th>indicator</th>\n",
       "      <th></th>\n",
       "      <th></th>\n",
       "      <th></th>\n",
       "    </tr>\n",
       "  </thead>\n",
       "  <tbody>\n",
       "    <tr>\n",
       "      <th rowspan=\"3\" valign=\"top\">2017</th>\n",
       "      <th>No. of Accidents</th>\n",
       "      <td>460488</td>\n",
       "      <td>309.535811</td>\n",
       "      <td>553.836254</td>\n",
       "    </tr>\n",
       "    <tr>\n",
       "      <th>No. of Casualties - Dead</th>\n",
       "      <td>7489</td>\n",
       "      <td>309.535811</td>\n",
       "      <td>553.836254</td>\n",
       "    </tr>\n",
       "    <tr>\n",
       "      <th>No. of Casualties - Injured</th>\n",
       "      <td>33199</td>\n",
       "      <td>309.535811</td>\n",
       "      <td>553.836254</td>\n",
       "    </tr>\n",
       "  </tbody>\n",
       "</table>\n",
       "</div>"
      ],
      "text/plain": [
       "                                  no_accidents           x           y\n",
       "year indicator                                                        \n",
       "2017 No. of Accidents                   460488  309.535811  553.836254\n",
       "     No. of Casualties - Dead             7489  309.535811  553.836254\n",
       "     No. of Casualties - Injured         33199  309.535811  553.836254"
      ]
     },
     "execution_count": 472,
     "metadata": {},
     "output_type": "execute_result"
    }
   ],
   "source": [
    "# Confirm the numbers of all regions add up to total.\n",
    "t_accident[t_accident['region'] != 'Total'].groupby(by=['year', \"indicator\"]).sum().tail(3)"
   ]
  },
  {
   "cell_type": "code",
   "execution_count": 473,
   "metadata": {},
   "outputs": [
    {
     "data": {
      "text/html": [
       "<div>\n",
       "<style scoped>\n",
       "    .dataframe tbody tr th:only-of-type {\n",
       "        vertical-align: middle;\n",
       "    }\n",
       "\n",
       "    .dataframe tbody tr th {\n",
       "        vertical-align: top;\n",
       "    }\n",
       "\n",
       "    .dataframe thead th {\n",
       "        text-align: right;\n",
       "    }\n",
       "</style>\n",
       "<table border=\"1\" class=\"dataframe\">\n",
       "  <thead>\n",
       "    <tr style=\"text-align: right;\">\n",
       "      <th></th>\n",
       "      <th></th>\n",
       "      <th>no_accidents</th>\n",
       "      <th>x</th>\n",
       "      <th>y</th>\n",
       "    </tr>\n",
       "    <tr>\n",
       "      <th>year</th>\n",
       "      <th>indicator</th>\n",
       "      <th></th>\n",
       "      <th></th>\n",
       "      <th></th>\n",
       "    </tr>\n",
       "  </thead>\n",
       "  <tbody>\n",
       "    <tr>\n",
       "      <th rowspan=\"3\" valign=\"top\">2017</th>\n",
       "      <th>No. of Accidents</th>\n",
       "      <td>460488</td>\n",
       "      <td>0.0</td>\n",
       "      <td>0.0</td>\n",
       "    </tr>\n",
       "    <tr>\n",
       "      <th>No. of Casualties - Dead</th>\n",
       "      <td>7489</td>\n",
       "      <td>0.0</td>\n",
       "      <td>0.0</td>\n",
       "    </tr>\n",
       "    <tr>\n",
       "      <th>No. of Casualties - Injured</th>\n",
       "      <td>33199</td>\n",
       "      <td>0.0</td>\n",
       "      <td>0.0</td>\n",
       "    </tr>\n",
       "  </tbody>\n",
       "</table>\n",
       "</div>"
      ],
      "text/plain": [
       "                                  no_accidents    x    y\n",
       "year indicator                                          \n",
       "2017 No. of Accidents                   460488  0.0  0.0\n",
       "     No. of Casualties - Dead             7489  0.0  0.0\n",
       "     No. of Casualties - Injured         33199  0.0  0.0"
      ]
     },
     "execution_count": 473,
     "metadata": {},
     "output_type": "execute_result"
    }
   ],
   "source": [
    "\n",
    "t_accident[t_accident['region'] == 'Total'].groupby(by=['year', \"indicator\"]).sum().tail(3)"
   ]
  },
  {
   "cell_type": "code",
   "execution_count": 474,
   "metadata": {},
   "outputs": [
    {
     "data": {
      "text/html": [
       "<div>\n",
       "<style scoped>\n",
       "    .dataframe tbody tr th:only-of-type {\n",
       "        vertical-align: middle;\n",
       "    }\n",
       "\n",
       "    .dataframe tbody tr th {\n",
       "        vertical-align: top;\n",
       "    }\n",
       "\n",
       "    .dataframe thead th {\n",
       "        text-align: right;\n",
       "    }\n",
       "</style>\n",
       "<table border=\"1\" class=\"dataframe\">\n",
       "  <thead>\n",
       "    <tr style=\"text-align: right;\">\n",
       "      <th></th>\n",
       "      <th>driving_licenses</th>\n",
       "      <th>x</th>\n",
       "      <th>y</th>\n",
       "    </tr>\n",
       "    <tr>\n",
       "      <th>year</th>\n",
       "      <th></th>\n",
       "      <th></th>\n",
       "      <th></th>\n",
       "    </tr>\n",
       "  </thead>\n",
       "  <tbody>\n",
       "    <tr>\n",
       "      <th>2016</th>\n",
       "      <td>697017</td>\n",
       "      <td>309.535811</td>\n",
       "      <td>553.836254</td>\n",
       "    </tr>\n",
       "    <tr>\n",
       "      <th>2017</th>\n",
       "      <td>928165</td>\n",
       "      <td>309.535811</td>\n",
       "      <td>553.836254</td>\n",
       "    </tr>\n",
       "  </tbody>\n",
       "</table>\n",
       "</div>"
      ],
      "text/plain": [
       "      driving_licenses           x           y\n",
       "year                                          \n",
       "2016            697017  309.535811  553.836254\n",
       "2017            928165  309.535811  553.836254"
      ]
     },
     "execution_count": 474,
     "metadata": {},
     "output_type": "execute_result"
    }
   ],
   "source": [
    "\n",
    "t = t_licenses[t_licenses['region'] != 'Total'].groupby(by=['year']).sum()\n",
    "t.tail(2)"
   ]
  },
  {
   "cell_type": "code",
   "execution_count": 475,
   "metadata": {},
   "outputs": [
    {
     "data": {
      "text/html": [
       "<div>\n",
       "<style scoped>\n",
       "    .dataframe tbody tr th:only-of-type {\n",
       "        vertical-align: middle;\n",
       "    }\n",
       "\n",
       "    .dataframe tbody tr th {\n",
       "        vertical-align: top;\n",
       "    }\n",
       "\n",
       "    .dataframe thead th {\n",
       "        text-align: right;\n",
       "    }\n",
       "</style>\n",
       "<table border=\"1\" class=\"dataframe\">\n",
       "  <thead>\n",
       "    <tr style=\"text-align: right;\">\n",
       "      <th></th>\n",
       "      <th>year</th>\n",
       "      <th>region</th>\n",
       "      <th>driving_licenses</th>\n",
       "      <th>x</th>\n",
       "      <th>y</th>\n",
       "    </tr>\n",
       "  </thead>\n",
       "  <tbody>\n",
       "    <tr>\n",
       "      <th>314</th>\n",
       "      <td>2016</td>\n",
       "      <td>Total</td>\n",
       "      <td>697017</td>\n",
       "      <td>NaN</td>\n",
       "      <td>NaN</td>\n",
       "    </tr>\n",
       "    <tr>\n",
       "      <th>59</th>\n",
       "      <td>2017</td>\n",
       "      <td>Total</td>\n",
       "      <td>928165</td>\n",
       "      <td>NaN</td>\n",
       "      <td>NaN</td>\n",
       "    </tr>\n",
       "  </tbody>\n",
       "</table>\n",
       "</div>"
      ],
      "text/plain": [
       "     year region  driving_licenses   x   y\n",
       "314  2016  Total            697017 NaN NaN\n",
       "59   2017  Total            928165 NaN NaN"
      ]
     },
     "execution_count": 475,
     "metadata": {},
     "output_type": "execute_result"
    }
   ],
   "source": [
    "t_licenses[t_licenses['region'] == 'Total'].sort_values(by='year').tail(2)"
   ]
  },
  {
   "cell_type": "code",
   "execution_count": 476,
   "metadata": {},
   "outputs": [],
   "source": [
    "# 3- Remove the rows that are not associated with regions (Two way)\n",
    "t_licenses.drop(t_licenses[t_licenses['region'] == 'Total'].index, inplace=True)\n",
    "t_accident.drop(t_accident[t_accident['region'] == 'Total'].index, inplace=True)\n",
    "\n",
    "i = t_licenses[(t_licenses['region'] == 'Total')].index\n",
    "t_licenses.drop(i);"
   ]
  },
  {
   "cell_type": "markdown",
   "metadata": {},
   "source": [
    "#### 10a. Data formats\n",
    "Is the License data in long or wide format? How about the Accident data? And why?"
   ]
  },
  {
   "cell_type": "code",
   "execution_count": 477,
   "metadata": {},
   "outputs": [],
   "source": [
    "## It's wide for both\n",
    "# for t_accident, indicator is melt to be row instead of column which cause duplicates.\n",
    "# for t_licenses, year is melt to be row instead of column which cause duplicates and confuse in reading the values."
   ]
  },
  {
   "cell_type": "markdown",
   "metadata": {},
   "source": [
    "#### 10b. Changing formats\n",
    "Which format would work best for both dataframes? Transform the datasets to the same format before merging in the next task."
   ]
  },
  {
   "cell_type": "code",
   "execution_count": 478,
   "metadata": {},
   "outputs": [],
   "source": [
    "# Accident is long bacause we have cetgorical value being displayed as word which is indicator\n",
    "# for licenses table, it's wide because "
   ]
  },
  {
   "cell_type": "code",
   "execution_count": 479,
   "metadata": {},
   "outputs": [],
   "source": [
    "#code\n",
    "t_accident_pvt = pd.pivot_table(t_accident, values=['no_accidents'], index=['region', 'year'], columns=['indicator'])\n",
    "t_accident_pvt.columns = [str(x).replace(' ', '_') for x in t_accident_pvt.columns]"
   ]
  },
  {
   "cell_type": "code",
   "execution_count": 480,
   "metadata": {},
   "outputs": [],
   "source": [
    "\n",
    "t_licenses_pvt = pd.pivot_table(t_licenses, values=['driving_licenses'], index=['year', 'region']).head()"
   ]
  },
  {
   "cell_type": "markdown",
   "metadata": {},
   "source": [
    "#### 11. Merge dataframes\n",
    "\n",
    "Join the Driving Licenses & Traffic Accidents dataframes using the **region** and **year** in each dataframe as the key. Assign this to a new variable. Which join should you use to preserve the most data?"
   ]
  },
  {
   "cell_type": "code",
   "execution_count": 481,
   "metadata": {},
   "outputs": [],
   "source": [
    "#code\n",
    "# We will join on outter which will bring data from both tables without excluding any value (FULL OUTTER JOIN)\n",
    "# df_merged_inner = pd.merge(t_accident.iloc[:,2:], t_licenses.iloc[:, 1:], left_on=['region', 'year'], right_on=['administritive_area','year'], how='inner')\n",
    "df_merged_outer = pd.merge(t_accident, t_licenses, on=['region','year'], how='outer')\n",
    "df_merged_csv = pd.merge(t_accident_pvt, t_licenses, on= ['region', 'year'], how='inner')\n",
    "\n",
    "df_merged_csv.rename(columns={\"('no_accidents',_'No._of_Accidents')\":\"no_accidents\" , \"('no_accidents',_'No._of_Casualties_-_Dead')\":\"no_dead\" , \"('no_accidents',_'No._of_Casualties_-_Injured')\":\"no_injured\"}, inplace=True)\n",
    "df_merged_csv.to_csv('./accident_licenses_inner.csv')\n",
    "df_merged_outer.to_csv('./accident_licenses_outer.csv')"
   ]
  },
  {
   "cell_type": "markdown",
   "metadata": {},
   "source": [
    "#### 12. Save your cleaned, merged dataframe\n",
    "\n",
    "Use a relative path to save out your data as `combined_datasets.csv`."
   ]
  },
  {
   "cell_type": "code",
   "execution_count": 482,
   "metadata": {},
   "outputs": [
    {
     "data": {
      "text/html": [
       "<div>\n",
       "<style scoped>\n",
       "    .dataframe tbody tr th:only-of-type {\n",
       "        vertical-align: middle;\n",
       "    }\n",
       "\n",
       "    .dataframe tbody tr th {\n",
       "        vertical-align: top;\n",
       "    }\n",
       "\n",
       "    .dataframe thead th {\n",
       "        text-align: right;\n",
       "    }\n",
       "</style>\n",
       "<table border=\"1\" class=\"dataframe\">\n",
       "  <thead>\n",
       "    <tr style=\"text-align: right;\">\n",
       "      <th></th>\n",
       "      <th>region</th>\n",
       "      <th>year</th>\n",
       "      <th>no_accidents</th>\n",
       "      <th>no_dead</th>\n",
       "      <th>no_injured</th>\n",
       "      <th>driving_licenses</th>\n",
       "      <th>x</th>\n",
       "      <th>y</th>\n",
       "    </tr>\n",
       "  </thead>\n",
       "  <tbody>\n",
       "    <tr>\n",
       "      <th>0</th>\n",
       "      <td>Al-Baha</td>\n",
       "      <td>2016</td>\n",
       "      <td>3618</td>\n",
       "      <td>185</td>\n",
       "      <td>1227</td>\n",
       "      <td>4614</td>\n",
       "      <td>20.148406</td>\n",
       "      <td>41.466548</td>\n",
       "    </tr>\n",
       "    <tr>\n",
       "      <th>1</th>\n",
       "      <td>Al-Baha</td>\n",
       "      <td>2017</td>\n",
       "      <td>1414</td>\n",
       "      <td>134</td>\n",
       "      <td>1007</td>\n",
       "      <td>4131</td>\n",
       "      <td>20.148406</td>\n",
       "      <td>41.466548</td>\n",
       "    </tr>\n",
       "    <tr>\n",
       "      <th>2</th>\n",
       "      <td>Al-Jouf</td>\n",
       "      <td>2016</td>\n",
       "      <td>10212</td>\n",
       "      <td>245</td>\n",
       "      <td>920</td>\n",
       "      <td>9371</td>\n",
       "      <td>29.967745</td>\n",
       "      <td>39.557037</td>\n",
       "    </tr>\n",
       "    <tr>\n",
       "      <th>3</th>\n",
       "      <td>Al-Jouf</td>\n",
       "      <td>2017</td>\n",
       "      <td>10469</td>\n",
       "      <td>240</td>\n",
       "      <td>862</td>\n",
       "      <td>8091</td>\n",
       "      <td>29.967745</td>\n",
       "      <td>39.557037</td>\n",
       "    </tr>\n",
       "    <tr>\n",
       "      <th>4</th>\n",
       "      <td>Al-Qaseem</td>\n",
       "      <td>2016</td>\n",
       "      <td>25664</td>\n",
       "      <td>397</td>\n",
       "      <td>1513</td>\n",
       "      <td>9180</td>\n",
       "      <td>26.196706</td>\n",
       "      <td>43.343000</td>\n",
       "    </tr>\n",
       "  </tbody>\n",
       "</table>\n",
       "</div>"
      ],
      "text/plain": [
       "      region  year  no_accidents  no_dead  no_injured  driving_licenses  \\\n",
       "0    Al-Baha  2016          3618      185        1227              4614   \n",
       "1    Al-Baha  2017          1414      134        1007              4131   \n",
       "2    Al-Jouf  2016         10212      245         920              9371   \n",
       "3    Al-Jouf  2017         10469      240         862              8091   \n",
       "4  Al-Qaseem  2016         25664      397        1513              9180   \n",
       "\n",
       "           x          y  \n",
       "0  20.148406  41.466548  \n",
       "1  20.148406  41.466548  \n",
       "2  29.967745  39.557037  \n",
       "3  29.967745  39.557037  \n",
       "4  26.196706  43.343000  "
      ]
     },
     "execution_count": 482,
     "metadata": {},
     "output_type": "execute_result"
    }
   ],
   "source": [
    "#code\n",
    "\n",
    "df_merged = pd.read_csv('./accident_licenses_inner.csv')\n",
    "df_merged.drop(columns='Unnamed: 0', inplace=True)\n",
    "df_merged.head()"
   ]
  },
  {
   "cell_type": "markdown",
   "metadata": {},
   "source": [
    "## Exploratory Data Analysis\n",
    "\n",
    "\n",
    "### Summary Statistics\n",
    "Transpose the output of pandas `describe` method to create a quick overview of each numeric feature."
   ]
  },
  {
   "cell_type": "code",
   "execution_count": 483,
   "metadata": {},
   "outputs": [
    {
     "data": {
      "text/html": [
       "<div>\n",
       "<style scoped>\n",
       "    .dataframe tbody tr th:only-of-type {\n",
       "        vertical-align: middle;\n",
       "    }\n",
       "\n",
       "    .dataframe tbody tr th {\n",
       "        vertical-align: top;\n",
       "    }\n",
       "\n",
       "    .dataframe thead th {\n",
       "        text-align: right;\n",
       "    }\n",
       "</style>\n",
       "<table border=\"1\" class=\"dataframe\">\n",
       "  <thead>\n",
       "    <tr style=\"text-align: right;\">\n",
       "      <th></th>\n",
       "      <th>count</th>\n",
       "      <th>mean</th>\n",
       "      <th>std</th>\n",
       "      <th>min</th>\n",
       "      <th>25%</th>\n",
       "      <th>50%</th>\n",
       "      <th>75%</th>\n",
       "      <th>max</th>\n",
       "    </tr>\n",
       "  </thead>\n",
       "  <tbody>\n",
       "    <tr>\n",
       "      <th>year</th>\n",
       "      <td>26.0</td>\n",
       "      <td>2016.500000</td>\n",
       "      <td>0.509902</td>\n",
       "      <td>2016.000000</td>\n",
       "      <td>2016.000000</td>\n",
       "      <td>2016.500000</td>\n",
       "      <td>2017.000000</td>\n",
       "      <td>2017.000000</td>\n",
       "    </tr>\n",
       "    <tr>\n",
       "      <th>no_accidents</th>\n",
       "      <td>26.0</td>\n",
       "      <td>38225.692308</td>\n",
       "      <td>46493.705035</td>\n",
       "      <td>1414.000000</td>\n",
       "      <td>10276.250000</td>\n",
       "      <td>16050.500000</td>\n",
       "      <td>30981.250000</td>\n",
       "      <td>145541.000000</td>\n",
       "    </tr>\n",
       "    <tr>\n",
       "      <th>no_dead</th>\n",
       "      <td>26.0</td>\n",
       "      <td>635.384615</td>\n",
       "      <td>549.783381</td>\n",
       "      <td>112.000000</td>\n",
       "      <td>241.250000</td>\n",
       "      <td>415.500000</td>\n",
       "      <td>929.250000</td>\n",
       "      <td>2243.000000</td>\n",
       "    </tr>\n",
       "    <tr>\n",
       "      <th>no_injured</th>\n",
       "      <td>26.0</td>\n",
       "      <td>2743.038462</td>\n",
       "      <td>2922.641127</td>\n",
       "      <td>374.000000</td>\n",
       "      <td>923.000000</td>\n",
       "      <td>1618.500000</td>\n",
       "      <td>3784.000000</td>\n",
       "      <td>12383.000000</td>\n",
       "    </tr>\n",
       "    <tr>\n",
       "      <th>driving_licenses</th>\n",
       "      <td>26.0</td>\n",
       "      <td>62507.000000</td>\n",
       "      <td>107293.917762</td>\n",
       "      <td>2153.000000</td>\n",
       "      <td>8363.250000</td>\n",
       "      <td>16085.000000</td>\n",
       "      <td>51222.000000</td>\n",
       "      <td>495307.000000</td>\n",
       "    </tr>\n",
       "    <tr>\n",
       "      <th>x</th>\n",
       "      <td>26.0</td>\n",
       "      <td>23.810447</td>\n",
       "      <td>4.274533</td>\n",
       "      <td>17.207231</td>\n",
       "      <td>20.148406</td>\n",
       "      <td>23.288331</td>\n",
       "      <td>27.400846</td>\n",
       "      <td>30.197075</td>\n",
       "    </tr>\n",
       "    <tr>\n",
       "      <th>y</th>\n",
       "      <td>26.0</td>\n",
       "      <td>42.602789</td>\n",
       "      <td>3.313532</td>\n",
       "      <td>37.259858</td>\n",
       "      <td>41.263690</td>\n",
       "      <td>41.817119</td>\n",
       "      <td>43.343000</td>\n",
       "      <td>50.147830</td>\n",
       "    </tr>\n",
       "  </tbody>\n",
       "</table>\n",
       "</div>"
      ],
      "text/plain": [
       "                  count          mean            std          min  \\\n",
       "year               26.0   2016.500000       0.509902  2016.000000   \n",
       "no_accidents       26.0  38225.692308   46493.705035  1414.000000   \n",
       "no_dead            26.0    635.384615     549.783381   112.000000   \n",
       "no_injured         26.0   2743.038462    2922.641127   374.000000   \n",
       "driving_licenses   26.0  62507.000000  107293.917762  2153.000000   \n",
       "x                  26.0     23.810447       4.274533    17.207231   \n",
       "y                  26.0     42.602789       3.313532    37.259858   \n",
       "\n",
       "                           25%           50%           75%            max  \n",
       "year               2016.000000   2016.500000   2017.000000    2017.000000  \n",
       "no_accidents      10276.250000  16050.500000  30981.250000  145541.000000  \n",
       "no_dead             241.250000    415.500000    929.250000    2243.000000  \n",
       "no_injured          923.000000   1618.500000   3784.000000   12383.000000  \n",
       "driving_licenses   8363.250000  16085.000000  51222.000000  495307.000000  \n",
       "x                    20.148406     23.288331     27.400846      30.197075  \n",
       "y                    41.263690     41.817119     43.343000      50.147830  "
      ]
     },
     "execution_count": 483,
     "metadata": {},
     "output_type": "execute_result"
    }
   ],
   "source": [
    "#Code:\n",
    "df_merged.describe().T"
   ]
  },
  {
   "cell_type": "markdown",
   "metadata": {},
   "source": [
    "#### Manually calculate standard deviation\n",
    "\n",
    "$$\\sigma = \\sqrt{\\frac{1}{n}\\sum_{i=1}^n(x_i - \\mu)^2}$$\n",
    "\n",
    "- Write a function to calculate standard deviation using the formula above"
   ]
  },
  {
   "cell_type": "code",
   "execution_count": 484,
   "metadata": {},
   "outputs": [],
   "source": [
    "#code\n",
    "# Two ways, one plain python, second with numpy sqrt.\n",
    "def std_sample(series):\n",
    "    try:\n",
    "        return sum(((series - series.mean())**2)/(len(series)-1))**0.5\n",
    "    except:\n",
    "        return None\n",
    "\n",
    "def std_population(series):\n",
    "    try:\n",
    "        return np.sqrt(sum((series - series.mean())**2)/(len(series)))\n",
    "    except:\n",
    "        return None"
   ]
  },
  {
   "cell_type": "markdown",
   "metadata": {},
   "source": [
    "- Use a **dictionary comprehension** to apply your standard deviation function to each numeric column in the dataframe.  **No loops**  \n",
    "- Assign the output to variable `sd` as a dictionary where: \n",
    "    - Each column name is now a key \n",
    "    - That standard deviation of the column is the value \n",
    "     \n",
    "*Example Output :* `{'Driving_Licenses_x': 120, 'Traffic_Accidents_x': 120, ...}`"
   ]
  },
  {
   "cell_type": "code",
   "execution_count": 485,
   "metadata": {},
   "outputs": [],
   "source": [
    "try:\n",
    "    df_merged.drop(\"Unnamed: 0\", axis=1, inplace=True)\n",
    "except:\n",
    "    pass"
   ]
  },
  {
   "cell_type": "code",
   "execution_count": 486,
   "metadata": {},
   "outputs": [
    {
     "data": {
      "text/plain": [
       "{'region': nan,\n",
       " 'year': 0.5099019513592785,\n",
       " 'no_accidents': 46493.70503521458,\n",
       " 'no_dead': 549.7833811182784,\n",
       " 'no_injured': 2922.6411272103765,\n",
       " 'driving_licenses': 107293.91776200551,\n",
       " 'x': 4.274532559861535,\n",
       " 'y': 3.313531854829085}"
      ]
     },
     "execution_count": 486,
     "metadata": {},
     "output_type": "execute_result"
    }
   ],
   "source": [
    "# Use a dictionary comprehension to apply your standard deviation function to each numeric column in the dataframe. No loops\n",
    "# Assign the output to variable sd as a dictionary where\n",
    "sd = dict((x, y) for x,y in df_merged.apply(std_sample).iteritems())\n",
    "sd"
   ]
  },
  {
   "cell_type": "markdown",
   "metadata": {},
   "source": [
    "Do your manually calculated standard deviations match up with the output from pandas `describe`? What about numpy's `std` method?"
   ]
  },
  {
   "cell_type": "markdown",
   "metadata": {},
   "source": [
    "Answer: \n",
    "### describe() and my function is the same because both treat them as sample by subtract the lenth by 1.\n",
    "### numpy std is different where it treat the input as population."
   ]
  },
  {
   "cell_type": "code",
   "execution_count": 487,
   "metadata": {},
   "outputs": [
    {
     "data": {
      "text/plain": [
       "year                     0.509902\n",
       "no_accidents         46493.705035\n",
       "no_dead                549.783381\n",
       "no_injured            2922.641127\n",
       "driving_licenses    107293.917762\n",
       "x                        4.274533\n",
       "y                        3.313532\n",
       "Name: std, dtype: float64"
      ]
     },
     "execution_count": 487,
     "metadata": {},
     "output_type": "execute_result"
    }
   ],
   "source": [
    "df_merged.describe().loc['std']"
   ]
  },
  {
   "cell_type": "code",
   "execution_count": 488,
   "metadata": {},
   "outputs": [
    {
     "data": {
      "text/plain": [
       "region                        NaN\n",
       "year                     0.509902\n",
       "no_accidents         46493.705035\n",
       "no_dead                549.783381\n",
       "no_injured            2922.641127\n",
       "driving_licenses    107293.917762\n",
       "x                        4.274533\n",
       "y                        3.313532\n",
       "dtype: float64"
      ]
     },
     "execution_count": 488,
     "metadata": {},
     "output_type": "execute_result"
    }
   ],
   "source": [
    "df_merged.apply(std_sample)"
   ]
  },
  {
   "cell_type": "code",
   "execution_count": 489,
   "metadata": {},
   "outputs": [
    {
     "data": {
      "text/plain": [
       "year                     0.500000\n",
       "no_accidents         45590.828699\n",
       "no_dead                539.106959\n",
       "no_injured            2865.885411\n",
       "driving_licenses    105210.342377\n",
       "x                        4.191524\n",
       "y                        3.249185\n",
       "dtype: float64"
      ]
     },
     "execution_count": 489,
     "metadata": {},
     "output_type": "execute_result"
    }
   ],
   "source": [
    "np.std(df_merged)"
   ]
  },
  {
   "cell_type": "markdown",
   "metadata": {},
   "source": [
    "#### Investigate trends in the data\n",
    "Using sorting and/or masking (along with the `.head` method to not print our entire dataframe), consider the following questions:\n",
    "\n",
    "- Which regions have the highest and lowest Driving Licenses based on years (1993 - 2017)\n",
    "- Which regions have the highest and lowest mean Traffic Accidents numbers for years (2016 - 2017)\n",
    "- What are the regions that have more Driving Licenses issued in each year than the year average?\n",
    "- What are the regions that have more Traffic Accidents happened in each year than the year average?\n",
    "\n",
    "Based on what you've just observed, have you identified any regions that you're especially interested in? **Make a note of these and state *why* you think they're interesting**.\n",
    "\n",
    "**You should comment on your findings at each step in a markdown cell below your code block**. Make sure you include at least one example of sorting your dataframe by a column, and one example of using boolean filtering (i.e., masking) to select a subset of the dataframe."
   ]
  },
  {
   "cell_type": "code",
   "execution_count": 490,
   "metadata": {},
   "outputs": [
    {
     "data": {
      "text/html": [
       "<div>\n",
       "<style scoped>\n",
       "    .dataframe tbody tr th:only-of-type {\n",
       "        vertical-align: middle;\n",
       "    }\n",
       "\n",
       "    .dataframe tbody tr th {\n",
       "        vertical-align: top;\n",
       "    }\n",
       "\n",
       "    .dataframe thead th {\n",
       "        text-align: right;\n",
       "    }\n",
       "</style>\n",
       "<table border=\"1\" class=\"dataframe\">\n",
       "  <thead>\n",
       "    <tr style=\"text-align: right;\">\n",
       "      <th></th>\n",
       "      <th>year</th>\n",
       "      <th>region</th>\n",
       "      <th>driving_licenses</th>\n",
       "      <th>x</th>\n",
       "      <th>y</th>\n",
       "    </tr>\n",
       "  </thead>\n",
       "  <tbody>\n",
       "    <tr>\n",
       "      <th>292</th>\n",
       "      <td>2017</td>\n",
       "      <td>Riyadh</td>\n",
       "      <td>495307</td>\n",
       "      <td>23.081434</td>\n",
       "      <td>45.585751</td>\n",
       "    </tr>\n",
       "  </tbody>\n",
       "</table>\n",
       "</div>"
      ],
      "text/plain": [
       "     year  region  driving_licenses          x          y\n",
       "292  2017  Riyadh            495307  23.081434  45.585751"
      ]
     },
     "execution_count": 490,
     "metadata": {},
     "output_type": "execute_result"
    }
   ],
   "source": [
    "#code\n",
    "# Which regions have the highest and lowest Driving Licenses based on years (1993 - 2017)\n",
    "t_licenses.sort_values('driving_licenses', ascending=False).tail(1)\n",
    "t_licenses.sort_values('driving_licenses', ascending=False).head(1)"
   ]
  },
  {
   "cell_type": "code",
   "execution_count": 491,
   "metadata": {},
   "outputs": [
    {
     "data": {
      "text/html": [
       "<div>\n",
       "<style scoped>\n",
       "    .dataframe tbody tr th:only-of-type {\n",
       "        vertical-align: middle;\n",
       "    }\n",
       "\n",
       "    .dataframe tbody tr th {\n",
       "        vertical-align: top;\n",
       "    }\n",
       "\n",
       "    .dataframe thead th {\n",
       "        text-align: right;\n",
       "    }\n",
       "</style>\n",
       "<table border=\"1\" class=\"dataframe\">\n",
       "  <thead>\n",
       "    <tr style=\"text-align: right;\">\n",
       "      <th></th>\n",
       "      <th></th>\n",
       "      <th>no_accidents</th>\n",
       "      <th>x</th>\n",
       "      <th>y</th>\n",
       "    </tr>\n",
       "    <tr>\n",
       "      <th>region</th>\n",
       "      <th>year</th>\n",
       "      <th></th>\n",
       "      <th></th>\n",
       "      <th></th>\n",
       "    </tr>\n",
       "  </thead>\n",
       "  <tbody>\n",
       "    <tr>\n",
       "      <th>Najran</th>\n",
       "      <th>2016</th>\n",
       "      <td>1371.333333</td>\n",
       "      <td>18.451100</td>\n",
       "      <td>46.868850</td>\n",
       "    </tr>\n",
       "    <tr>\n",
       "      <th>Al-Baha</th>\n",
       "      <th>2017</th>\n",
       "      <td>851.666667</td>\n",
       "      <td>20.148406</td>\n",
       "      <td>41.466548</td>\n",
       "    </tr>\n",
       "  </tbody>\n",
       "</table>\n",
       "</div>"
      ],
      "text/plain": [
       "              no_accidents          x          y\n",
       "region  year                                    \n",
       "Najran  2016   1371.333333  18.451100  46.868850\n",
       "Al-Baha 2017    851.666667  20.148406  41.466548"
      ]
     },
     "execution_count": 491,
     "metadata": {},
     "output_type": "execute_result"
    }
   ],
   "source": [
    "# Which regions have the highest and lowest mean Traffic Accidents numbers for years (2016 - 2017)\n",
    "\n",
    "t_accident[t_accident['year'].isin([2016,2017])].groupby(['region','year']).mean().sort_values('no_accidents', ascending=False).head(2)\n",
    "t_accident[t_accident['year'].isin([2016,2017])].groupby(['region','year']).mean().sort_values('no_accidents', ascending=False).tail(2)"
   ]
  },
  {
   "cell_type": "code",
   "execution_count": 492,
   "metadata": {},
   "outputs": [
    {
     "data": {
      "text/html": [
       "<div>\n",
       "<style scoped>\n",
       "    .dataframe tbody tr th:only-of-type {\n",
       "        vertical-align: middle;\n",
       "    }\n",
       "\n",
       "    .dataframe tbody tr th {\n",
       "        vertical-align: top;\n",
       "    }\n",
       "\n",
       "    .dataframe thead th {\n",
       "        text-align: right;\n",
       "    }\n",
       "</style>\n",
       "<table border=\"1\" class=\"dataframe\">\n",
       "  <thead>\n",
       "    <tr style=\"text-align: right;\">\n",
       "      <th></th>\n",
       "      <th>year</th>\n",
       "      <th>region</th>\n",
       "      <th>driving_licenses</th>\n",
       "      <th>x</th>\n",
       "      <th>y</th>\n",
       "    </tr>\n",
       "  </thead>\n",
       "  <tbody>\n",
       "    <tr>\n",
       "      <th>158</th>\n",
       "      <td>2016</td>\n",
       "      <td>Makkah</td>\n",
       "      <td>136055</td>\n",
       "      <td>21.628963</td>\n",
       "      <td>41.263690</td>\n",
       "    </tr>\n",
       "    <tr>\n",
       "      <th>215</th>\n",
       "      <td>2016</td>\n",
       "      <td>Hail</td>\n",
       "      <td>54507</td>\n",
       "      <td>27.400846</td>\n",
       "      <td>41.440696</td>\n",
       "    </tr>\n",
       "    <tr>\n",
       "      <th>256</th>\n",
       "      <td>2016</td>\n",
       "      <td>Eastern</td>\n",
       "      <td>142307</td>\n",
       "      <td>23.288331</td>\n",
       "      <td>50.147830</td>\n",
       "    </tr>\n",
       "    <tr>\n",
       "      <th>293</th>\n",
       "      <td>2016</td>\n",
       "      <td>Riyadh</td>\n",
       "      <td>242851</td>\n",
       "      <td>23.081434</td>\n",
       "      <td>45.585751</td>\n",
       "    </tr>\n",
       "    <tr>\n",
       "      <th>94</th>\n",
       "      <td>2017</td>\n",
       "      <td>Eastern</td>\n",
       "      <td>126816</td>\n",
       "      <td>23.288331</td>\n",
       "      <td>50.147830</td>\n",
       "    </tr>\n",
       "    <tr>\n",
       "      <th>157</th>\n",
       "      <td>2017</td>\n",
       "      <td>Makkah</td>\n",
       "      <td>142487</td>\n",
       "      <td>21.628963</td>\n",
       "      <td>41.263690</td>\n",
       "    </tr>\n",
       "    <tr>\n",
       "      <th>292</th>\n",
       "      <td>2017</td>\n",
       "      <td>Riyadh</td>\n",
       "      <td>495307</td>\n",
       "      <td>23.081434</td>\n",
       "      <td>45.585751</td>\n",
       "    </tr>\n",
       "  </tbody>\n",
       "</table>\n",
       "</div>"
      ],
      "text/plain": [
       "     year   region  driving_licenses          x          y\n",
       "158  2016   Makkah            136055  21.628963  41.263690\n",
       "215  2016     Hail             54507  27.400846  41.440696\n",
       "256  2016  Eastern            142307  23.288331  50.147830\n",
       "293  2016   Riyadh            242851  23.081434  45.585751\n",
       "94   2017  Eastern            126816  23.288331  50.147830\n",
       "157  2017   Makkah            142487  21.628963  41.263690\n",
       "292  2017   Riyadh            495307  23.081434  45.585751"
      ]
     },
     "execution_count": 492,
     "metadata": {},
     "output_type": "execute_result"
    }
   ],
   "source": [
    "# What are the regions that have more Driving Licenses issued in each year than the year average?\n",
    "\n",
    "years_mean = t_licenses.groupby('year')['driving_licenses'].mean().reset_index()\n",
    "above_mean = pd.DataFrame([])\n",
    "\n",
    "for year in years_mean['year']:\n",
    "    if len(t_licenses[(t_licenses['driving_licenses'] > years_mean[years_mean['year'] == year].iloc[0]['driving_licenses']) & \\\n",
    "              (df_merged['year'] == year)].index) > 0:\n",
    "        above_mean = above_mean.append(pd.DataFrame(t_licenses[(t_licenses['driving_licenses'] > years_mean[years_mean['year'] == year].iloc[0]['driving_licenses']) & \\\n",
    "              (t_licenses['year'] == year)]))\n",
    "\n",
    "above_mean"
   ]
  },
  {
   "cell_type": "code",
   "execution_count": 493,
   "metadata": {},
   "outputs": [
    {
     "name": "stdout",
     "output_type": "stream",
     "text": [
      "       region  year  no_accidents\n",
      "4   Al-Qaseem  2016         25664\n",
      "6       Assir  2016         32684\n",
      "8     Eastern  2016        101619\n",
      "12      Jazan  2016         25873\n",
      "16     Makkah  2016        134838\n",
      "22     Riyadh  2016        141736\n",
      "24     Tabouk  2016         16031\n",
      "       region  year  no_accidents\n",
      "5   Al-Qaseem  2017         22405\n",
      "7       Assir  2017         25245\n",
      "9     Eastern  2017         81433\n",
      "13      Jazan  2017         22161\n",
      "15    Madinah  2017         16070\n",
      "17     Makkah  2017        145541\n",
      "23     Riyadh  2017         99925\n"
     ]
    }
   ],
   "source": [
    "\n",
    "#What are the regions that have more Traffic Accidents happened in each year than the year average?\n",
    "\n",
    "years_mean = t_accident.groupby('year')['no_accidents'].mean().reset_index()\n",
    "above_mean = []\n",
    "\n",
    "for year in years_mean['year']:\n",
    "    if len(df_merged[(df_merged['no_accidents'] > years_mean[years_mean['year'] == year].iloc[0]['no_accidents']) & \\\n",
    "              (df_merged['year'] == year)].index) > 0:\n",
    "        above_mean.append(pd.DataFrame(df_merged[(df_merged['no_accidents'] > years_mean[years_mean['year'] == year].iloc[0]['no_accidents']) & \\\n",
    "              (df_merged['year'] == year)]))\n",
    "    \n",
    "for df in above_mean:\n",
    "    print(df.iloc[:,:3])"
   ]
  },
  {
   "cell_type": "markdown",
   "metadata": {},
   "source": [
    "## Visualize the data\n",
    "\n",
    "There's not a magic bullet recommendation for the right number of plots to understand a given dataset, but visualizing your data is *always* a good idea. Not only does it allow you to quickly convey your findings (even if you have a non-technical audience), it will often reveal trends in your data that escaped you when you were looking only at numbers.\n",
    "\n",
    "Some recommendations on plotting:\n",
    "- Plots have titles\n",
    "- Plots have axis labels\n",
    "- Plots have appropriate tick labels\n",
    "- All text is legible in a plot\n",
    "- Plots demonstrate meaningful and valid relationships\n",
    "- Plots are interpreted to aid understanding\n",
    "\n",
    "There is such a thing as too many plots, and there are a *lot* of bad plots. You might make some! (But hopefully not with the guided prompts below)."
   ]
  },
  {
   "cell_type": "markdown",
   "metadata": {},
   "source": [
    "#### Use Seaborn's heatmap with pandas `.corr()` to visualize correlations between all numeric features\n",
    "\n",
    "Heatmaps are generally not appropriate for presentations, and should often be excluded from reports as they can be visually overwhelming. **However**, they can be extremely useful in identify relationships of potential interest (as well as identifying potential collinearity before modeling).\n",
    "\n",
    "*example*:\n",
    "```python\n",
    "sns.heatmap(df.corr())\n",
    "```\n",
    "\n",
    "Please take time to format your output, adding a title. Look through some of the additional arguments and options. (Axis labels aren't really necessary, as long as the title is informative)."
   ]
  },
  {
   "cell_type": "code",
   "execution_count": 494,
   "metadata": {},
   "outputs": [
    {
     "data": {
      "text/plain": [
       "Text(0.5, 1.0, 'Correlation of licenses and accidents')"
      ]
     },
     "execution_count": 494,
     "metadata": {},
     "output_type": "execute_result"
    },
    {
     "data": {
      "image/png": "[encoded data removed]",
      "text/plain": [
       "<Figure size 936x720 with 2 Axes>"
      ]
     },
     "metadata": {
      "needs_background": "light"
     },
     "output_type": "display_data"
    }
   ],
   "source": [
    "fig, ax = plt.subplots(figsize=(13,10))         # Sample figsize in inches\n",
    "# Generate a mask for the upper triangle \n",
    "mask = np.zeros_like(df_merged.corr(), dtype=np.bool)\n",
    "mask[np.triu_indices_from(mask)] = True\n",
    "sns.heatmap(df_merged.corr(), ax = ax, mask=mask, annot=True)\n",
    "plt.title('Correlation of licenses and accidents')"
   ]
  },
  {
   "cell_type": "markdown",
   "metadata": {},
   "source": [
    "#### Define a custom function to subplot histograms\n",
    "\n",
    "We should write a function that will take the names of 2+ columns and subplot histograms. While you can use pandas plotting or Seaborn here, matplotlib gives you greater control over all aspects of your plots.\n",
    "\n",
    "[Helpful Link for Plotting Multiple Figures](https://matplotlib.org/users/pyplot_tutorial.html#working-with-multiple-figures-and-axes)\n",
    "\n",
    "Here's some starter code:"
   ]
  },
  {
   "cell_type": "code",
   "execution_count": 495,
   "metadata": {},
   "outputs": [],
   "source": [
    "def subplot_histograms(dataframe, list_of_columns, list_of_titles):\n",
    "    nrows = int(np.ceil(len(list_of_columns)/2)) # Makes sure you have enough rows\n",
    "    fig, ax = plt.subplots(ncols=2,nrows=nrows, figsize=(15, 15)) # You'll want to specify your figsize\n",
    "    ax = ax.ravel() # Ravel turns a matrix into a vector, which is easier to iterate\n",
    "    for i, column in enumerate(list_of_columns): # Gives us an index value to get into all our lists\n",
    "        ax[i].hist(dataframe[column], density=True) \n",
    "        ax[i].set_xlabel(list_of_columns[i])\n",
    "        ax[i].set_title(list_of_titles[i]) # Set titles, labels, etc here for each subplot\n",
    "        sns.distplot(dataframe[column], bins=20, kde=False, ax=ax[i], color = 'blue');\n",
    "    plt.show()\n",
    "        \n"
   ]
  },
  {
   "cell_type": "code",
   "execution_count": 496,
   "metadata": {},
   "outputs": [
    {
     "name": "stderr",
     "output_type": "stream",
     "text": [
      "/home/abdulmalik0x/.local/lib/python3.6/site-packages/matplotlib/axes/_axes.py:6521: MatplotlibDeprecationWarning: \n",
      "The 'normed' kwarg was deprecated in Matplotlib 2.1 and will be removed in 3.1. Use 'density' instead.\n",
      "  alternative=\"'density'\", removal=\"3.1\")\n",
      "/home/abdulmalik0x/.local/lib/python3.6/site-packages/matplotlib/axes/_axes.py:6521: MatplotlibDeprecationWarning: \n",
      "The 'normed' kwarg was deprecated in Matplotlib 2.1 and will be removed in 3.1. Use 'density' instead.\n",
      "  alternative=\"'density'\", removal=\"3.1\")\n",
      "/home/abdulmalik0x/.local/lib/python3.6/site-packages/matplotlib/axes/_axes.py:6521: MatplotlibDeprecationWarning: \n",
      "The 'normed' kwarg was deprecated in Matplotlib 2.1 and will be removed in 3.1. Use 'density' instead.\n",
      "  alternative=\"'density'\", removal=\"3.1\")\n",
      "/home/abdulmalik0x/.local/lib/python3.6/site-packages/matplotlib/axes/_axes.py:6521: MatplotlibDeprecationWarning: \n",
      "The 'normed' kwarg was deprecated in Matplotlib 2.1 and will be removed in 3.1. Use 'density' instead.\n",
      "  alternative=\"'density'\", removal=\"3.1\")\n"
     ]
    },
    {
     "data": {
      "image/png": "[encoded data removed]",
      "text/plain": [
       "<Figure size 1080x1080 with 4 Axes>"
      ]
     },
     "metadata": {
      "needs_background": "light"
     },
     "output_type": "display_data"
    }
   ],
   "source": [
    "columns_name = ['driving_licenses', 'no_accidents', 'no_dead', 'no_injured']\n",
    "title_name = ['No of Issued licenses', 'No of accidents', 'No of Dead', 'No of Injured']\n",
    "subplot_histograms(df_merged, columns_name, title_name);\n"
   ]
  },
  {
   "cell_type": "markdown",
   "metadata": {},
   "source": [
    "#### Plot and interpret histograms \n",
    "For each of the following:\n",
    "- Driving Licenses number\n",
    "- Traffic Accidents number\n",
    "\n",
    "Please plot two additional histograms that will help with your understanding of the data"
   ]
  },
  {
   "cell_type": "code",
   "execution_count": 497,
   "metadata": {},
   "outputs": [
    {
     "data": {
      "image/png": "[encoded data removed]",
      "text/plain": [
       "<Figure size 864x288 with 2 Axes>"
      ]
     },
     "metadata": {
      "needs_background": "light"
     },
     "output_type": "display_data"
    }
   ],
   "source": [
    "# Code\n",
    "# Driving Licenses number\n",
    "\n",
    "fig, ax = plt.subplots(ncols=2, figsize=(12, 4))\n",
    "ax[0].hist(t_accident['no_accidents'], bins=10)\n",
    "ax[0].set_xlabel('Number of accident')\n",
    "ax[0].xlabel = 'Number of accidents'\n",
    "ax[1].hist(t_licenses['driving_licenses'], bins=20)\n",
    "# plt.hist(x, bins=20)\n",
    "fig.suptitle('Total of accidents & diriving licenses', fontsize=24)\n",
    "plt.show()"
   ]
  },
  {
   "cell_type": "markdown",
   "metadata": {},
   "source": [
    "#### Plot and interpret scatter plots\n",
    "\n",
    "For each of the following:\n",
    "- Driving Licenses vs. Traffic Accidents for 2017\n",
    "- Driving Licenses vs. Traffic Accidents for 2016\n",
    "- Driving Licenses for 2016 vs 2017\n",
    "- Traffic Accidents for 2016 vs 2017\n",
    "\n",
    "Plot the two variables against each other using matplotlib or Seaborn\n",
    "\n",
    "Your plots should show:\n",
    "- Two clearly labeled axes\n",
    "- A proper title\n",
    "- Using colors and symbols that are clear and unmistakable\n",
    "\n",
    "**Feel free to write a custom function, and subplot if you'd like.** Functions save both time and space.\n"
   ]
  },
  {
   "cell_type": "code",
   "execution_count": 498,
   "metadata": {},
   "outputs": [
    {
     "data": {
      "image/png": "[encoded data removed]",
      "text/plain": [
       "<Figure size 432x288 with 1 Axes>"
      ]
     },
     "metadata": {
      "needs_background": "light"
     },
     "output_type": "display_data"
    }
   ],
   "source": [
    "# Driving Licenses vs. Traffic Accidents for 2017\n",
    "\n",
    "df_merged[df_merged['year'] == 2017].plot(kind='scatter', x='driving_licenses', y='no_accidents', s=40);\n"
   ]
  },
  {
   "cell_type": "code",
   "execution_count": 499,
   "metadata": {},
   "outputs": [
    {
     "data": {
      "image/png": "[encoded data removed]",
      "text/plain": [
       "<Figure size 432x288 with 1 Axes>"
      ]
     },
     "metadata": {
      "needs_background": "light"
     },
     "output_type": "display_data"
    }
   ],
   "source": [
    "# Driving Licenses vs. Traffic Accidents for 2016\n",
    "\n",
    "driving_liceses_ = df_merged[df_merged['year'] == 2016]['driving_licenses'].values\n",
    "accident_2016 = df_merged[df_merged['year'] == 2016]['no_accidents'].values\n",
    "\n",
    "# scatter(accident_2016, accident_2017, norm=True);\n",
    "colors = np.where(df_merged[\"year\"]==2017,'y','k')\n",
    "plt.scatter(driving_liceses_ , accident_2016);\n",
    "\n",
    "# np.log1p(df_merged[df_merged['year'] == 2016].plot(kind='scatter', x='driving_liceses', y='no_accidents', s=40)\n"
   ]
  },
  {
   "cell_type": "code",
   "execution_count": 500,
   "metadata": {},
   "outputs": [
    {
     "data": {
      "text/plain": [
       "Text(0.5, 1.0, 'Driving Licenses in Saudi Arabia in 2016 & 2017')"
      ]
     },
     "execution_count": 500,
     "metadata": {},
     "output_type": "execute_result"
    },
    {
     "data": {
      "image/png": "[encoded data removed]",
      "text/plain": [
       "<Figure size 432x288 with 1 Axes>"
      ]
     },
     "metadata": {
      "needs_background": "light"
     },
     "output_type": "display_data"
    }
   ],
   "source": [
    "# Driving Licenses for 2016 vs 2017\n",
    "\n",
    "# One way\n",
    "Licenses_2016 = df_merged.loc[df_merged['year'] == 2016, \"driving_licenses\"]\n",
    "Licenses_2017 = df_merged.loc[df_merged['year'] == 2017, \"driving_licenses\"]\n",
    "\n",
    "plt.scatter(Licenses_2016, Licenses_2017, s=60)\n",
    "plt.xlabel('2016')\n",
    "plt.ylabel('2017')\n",
    "plt.title('Driving Licenses in Saudi Arabia in 2016 & 2017')"
   ]
  },
  {
   "cell_type": "code",
   "execution_count": 501,
   "metadata": {},
   "outputs": [],
   "source": [
    "# Code"
   ]
  },
  {
   "cell_type": "markdown",
   "metadata": {},
   "source": [
    "#### Plot and interpret boxplots\n",
    "\n",
    "For each numeric variable in the dataframe create a boxplot using Seaborn. Boxplots demonstrate central tendency and spread in variables. In a certain sense, these are somewhat redundant with histograms, but you may be better able to identify clear outliers or differences in IQR, etc.\n",
    "\n",
    "Multiple values can be plotted to a single boxplot as long as they are of the same relative scale (meaning they have similar min/max values).\n",
    "\n",
    "Each boxplot should:\n",
    "- Only include variables of a similar scale\n",
    "- Have clear labels for each variable\n",
    "- Have appropriate titles and labels"
   ]
  },
  {
   "cell_type": "code",
   "execution_count": 502,
   "metadata": {},
   "outputs": [
    {
     "data": {
      "image/png": "[encoded data removed]",
      "text/plain": [
       "<Figure size 1296x360 with 1 Axes>"
      ]
     },
     "metadata": {
      "needs_background": "light"
     },
     "output_type": "display_data"
    }
   ],
   "source": [
    "# Code\n",
    "import seaborn as sns\n",
    "import scipy\n",
    "\n",
    "ax, fig = plt.subplots(1, 1, figsize=(18, 5))\n",
    "\n",
    "sns.boxplot(df_merged.region, df_merged.no_accidents, width=1)\n",
    "plt.ylabel('No of accidents', size=20)\n",
    "plt.xlabel('Region', size=20);"
   ]
  },
  {
   "cell_type": "code",
   "execution_count": null,
   "metadata": {},
   "outputs": [],
   "source": []
  },
  {
   "cell_type": "markdown",
   "metadata": {},
   "source": [
    "#### Feel free to do additional plots below\n",
    "*(do research and choose your own chart types & variables)*\n",
    "\n",
    "Are there any additional trends or relationships you haven't explored? Was there something interesting you saw that you'd like to dive further into? It's likely that there are a few more plots you might want to generate to support your narrative and recommendations that you are building toward. **As always, make sure you're interpreting your plots as you go**."
   ]
  },
  {
   "cell_type": "code",
   "execution_count": 503,
   "metadata": {},
   "outputs": [
    {
     "data": {
      "image/png": "[encoded data removed]",
      "text/plain": [
       "<Figure size 1080x576 with 2 Axes>"
      ]
     },
     "metadata": {
      "needs_background": "light"
     },
     "output_type": "display_data"
    }
   ],
   "source": [
    "# (Additional), to compare between 2016 and 2017, as we can see, number of accidents in Riyadh have decreased with relative increase in issued No of licenses.\n",
    "fig, ax = plt.subplots(2, 1, figsize=(15, 8))\n",
    "ax[0].plot(df_merged.loc[df_merged['year'] == 2016][\"region\"], df_merged.loc[df_merged['year'] == 2016]['driving_licenses'],  label='licenses 2016')\n",
    "ax[0].plot(df_merged.loc[df_merged['year'] == 2016][\"region\"], df_merged.loc[df_merged['year'] == 2016]['no_accidents'],  label='accidents 2016')\n",
    "ax[0].plot(df_merged.loc[df_merged['year'] == 2016][\"region\"], df_merged.loc[df_merged['year'] == 2016]['no_injured'],  label='injured 2016')\n",
    "ax[0].legend(loc='upper left')\n",
    "\n",
    "ax[1].plot(df_merged.loc[df_merged['year'] == 2017][\"region\"], df_merged.loc[df_merged['year'] == 2017]['driving_licenses'],  label='licenses 2017')\n",
    "ax[1].plot(df_merged.loc[df_merged['year'] == 2017][\"region\"], df_merged.loc[df_merged['year'] == 2017]['no_accidents'],  label='accidents 2017')\n",
    "ax[1].plot(df_merged.loc[df_merged['year'] == 2017][\"region\"], df_merged.loc[df_merged['year'] == 2017]['no_injured'],  label='injured 2017')\n",
    "ax[1].legend(loc='upper left')\n",
    "plt.show()"
   ]
  },
  {
   "cell_type": "markdown",
   "metadata": {},
   "source": [
    "## Descriptive and Inferential Statistics"
   ]
  },
  {
   "cell_type": "markdown",
   "metadata": {},
   "source": [
    "#### Summarizing Distributions\n",
    "\n",
    "Above, we used pandas `describe` to provide quick summary statistics of our numeric columns. We also demonstrated many visual relationships.\n",
    "\n",
    "As data scientists, having a complete understanding of data is imperative prior to modeling.\n",
    "\n",
    "While we will continue to build our analytic tools, we know that measures of *central tendency*, *spread*, and *shape/skewness* provide a quick summary of distributions.\n",
    "\n",
    "For each variable in your data, summarize the underlying distributions (in words & statistics)\n",
    " - Be thorough in your verbal description of these distributions.\n",
    " - Be sure to back up these summaries with statistics."
   ]
  },
  {
   "cell_type": "markdown",
   "metadata": {},
   "source": [
    "Answers:"
   ]
  },
  {
   "cell_type": "markdown",
   "metadata": {},
   "source": [
    "#### We generally assuming that data we sample from a population will be normally distributed. Do we observe this trend?"
   ]
  },
  {
   "cell_type": "markdown",
   "metadata": {},
   "source": [
    "Answer:"
   ]
  },
  {
   "cell_type": "code",
   "execution_count": 504,
   "metadata": {},
   "outputs": [
    {
     "name": "stdout",
     "output_type": "stream",
     "text": [
      "(array([], dtype=int64),)\n",
      "3213\n",
      "13870.261624127063\n",
      "-0.04665100070037036\n"
     ]
    },
    {
     "data": {
      "image/png": "[encoded data removed]",
      "text/plain": [
       "<Figure size 432x288 with 1 Axes>"
      ]
     },
     "metadata": {
      "needs_background": "light"
     },
     "output_type": "display_data"
    }
   ],
   "source": [
    "from scipy.stats import skew \n",
    "\n",
    "mu = np.mean(t_accident.no_accidents)\n",
    "sigma = np.std(t_accident.no_accidents)\n",
    "\n",
    "sample = np.random.normal(mu, sigma, 5000)\n",
    "print(np.where(sample == sample.argmax()))\n",
    "print(sample.argmax())\n",
    "print(sample.mean())\n",
    "print(skew(sample))\n",
    "\n",
    "plt.hist(sample, bins='auto');"
   ]
  },
  {
   "cell_type": "code",
   "execution_count": 505,
   "metadata": {},
   "outputs": [
    {
     "name": "stdout",
     "output_type": "stream",
     "text": [
      "value of skeness : 0.0021895752237435446\n"
     ]
    },
    {
     "data": {
      "image/png": "[encoded data removed]",
      "text/plain": [
       "<Figure size 432x288 with 1 Axes>"
      ]
     },
     "metadata": {
      "needs_background": "light"
     },
     "output_type": "display_data"
    }
   ],
   "source": [
    "mu = np.mean(t_licenses.driving_licenses)\n",
    "sigma = np.std(t_licenses.driving_licenses)\n",
    "\n",
    "sample = np.random.normal(mu, sigma, 5000)\n",
    "print(\"value of skeness : {}\".format(skew(sample)))\n",
    "\n",
    "plt.hist(sample, bins='auto');"
   ]
  },
  {
   "cell_type": "markdown",
   "metadata": {},
   "source": [
    "Does This Assumption Hold for:\n",
    "    - Driving Licenses\n",
    "    - Traffic Accidents\n",
    "Explain your answers for each distribution and how you think this will affect estimates made from these data."
   ]
  },
  {
   "cell_type": "markdown",
   "metadata": {},
   "source": [
    "Answer:\n",
    "\n",
    "- Traffic accident is skewed to the left meaning that is more weight in the left which means less number of accidents than the mean.\n",
    "- No. of driving licenses is skewed to the right, means that issued number of licenses is more than the average. \n"
   ]
  },
  {
   "cell_type": "markdown",
   "metadata": {},
   "source": [
    "# Statistical Evaluation of Distributions \n",
    "\n",
    "**If you feel it's appropriate**, using methods we discussed in class, run hypothesis tests to compare variables of interest in our dataset. "
   ]
  },
  {
   "cell_type": "code",
   "execution_count": 535,
   "metadata": {},
   "outputs": [
    {
     "data": {
      "text/plain": [
       "39"
      ]
     },
     "execution_count": 535,
     "metadata": {},
     "output_type": "execute_result"
    }
   ],
   "source": [
    "# Code\n",
    "# H1: The penalities have decreased the number of accident in 2017 by 20%, \n",
    "# H0: The penalities have'nt decreased the number of accident in 2017 by 20% (Mean 2016 == Mean 2017)\n",
    "# a (Alpha) is 0.10\n",
    "\n",
    "sample_2016 = t_accident[t_accident['year'] == 2016]['no_accidents']\n",
    "sample_2017 = t_accident[t_accident['year'] == 2017]['no_accidents']\n",
    "\n",
    "len(sample_2016)"
   ]
  },
  {
   "cell_type": "code",
   "execution_count": 532,
   "metadata": {},
   "outputs": [],
   "source": [
    "# Let's visulize t-stat\n",
    "xpoints = np.linspace(-4, 4, 500)\n",
    "# t-stat pdf (point, degree of freedom, )\n",
    "ypoints = stats.t.pdf(xpoints, len(sample_2016) + len(sample_2017) - 2, 0, 1)"
   ]
  },
  {
   "cell_type": "code",
   "execution_count": 533,
   "metadata": {},
   "outputs": [
    {
     "data": {
      "text/plain": [
       "<matplotlib.lines.Line2D at 0x7fe764420fd0>"
      ]
     },
     "execution_count": 533,
     "metadata": {},
     "output_type": "execute_result"
    },
    {
     "data": {
      "image/png": "[encoded data removed]",
      "text/plain": [
       "<Figure size 576x432 with 1 Axes>"
      ]
     },
     "metadata": {
      "needs_background": "light"
     },
     "output_type": "display_data"
    }
   ],
   "source": [
    "# equal_var because these two samples have huge different in variance between each other.\n",
    "t_test_result = stats.ttest_ind(sample_2016, sample_2017, equal_var=False)\n",
    "\n",
    "fig = plt.figure(figsize=(8, 6)) # Figure size on fig\n",
    "ax = fig.gca() # get the current axis from the figure initiated\n",
    "ax.plot(xpoints, ypoints, linewidth=3, color='darkred')\n",
    "ax.axvline(t_test_result.statistic, color='black', linewidth=5, linestyle='--')\n"
   ]
  },
  {
   "cell_type": "code",
   "execution_count": 534,
   "metadata": {},
   "outputs": [
    {
     "data": {
      "text/plain": [
       "Ttest_indResult(statistic=0.28159461200353947, pvalue=0.7790313475473333)"
      ]
     },
     "execution_count": 534,
     "metadata": {},
     "output_type": "execute_result"
    }
   ],
   "source": [
    "# means we'd expect to see data as extreme as our sample due to chance about 76% of the time if the null hypothesis was true\n",
    "# The probability of gitting value differ values is 77 %.\n",
    "# By this value, we accept the null hypothesis value\n",
    "t_test_result"
   ]
  },
  {
   "cell_type": "markdown",
   "metadata": {},
   "source": [
    "## Outside Research"
   ]
  },
  {
   "cell_type": "markdown",
   "metadata": {},
   "source": [
    "Based upon your observations, choose **three** regions that demonstrate interesting trends in the number of driving licenses and traffic accidents. Spend some time doing outside research on provincial and central policies that might influence these rates, and summarize your findings below. **Feel free to go back and create new plots that highlight these states of interest**. If you bring in any outside tables or charts, make sure you are explicit about having borrowed them. If you quote any text, make sure that it renders as being quoted. (Make sure that you cite your sources -- check with you local instructor for citation preferences)."
   ]
  },
  {
   "cell_type": "markdown",
   "metadata": {},
   "source": [
    "Answer:\n",
    "\n",
    "- I found some interesting patterns in Riyadh, Makkah and Eastern since they have the majority of the data. "
   ]
  },
  {
   "cell_type": "code",
   "execution_count": 510,
   "metadata": {},
   "outputs": [
    {
     "data": {
      "text/plain": [
       "Text(0.5, 1.0, 'No. of issued licenses per region in 2016 & 2017')"
      ]
     },
     "execution_count": 510,
     "metadata": {},
     "output_type": "execute_result"
    },
    {
     "data": {
      "image/png": "[encoded data removed]",
      "text/plain": [
       "<Figure size 720x504 with 1 Axes>"
      ]
     },
     "metadata": {
      "needs_background": "light"
     },
     "output_type": "display_data"
    },
    {
     "data": {
      "image/png": "[encoded data removed]",
      "text/plain": [
       "<Figure size 720x504 with 1 Axes>"
      ]
     },
     "metadata": {
      "needs_background": "light"
     },
     "output_type": "display_data"
    }
   ],
   "source": [
    "\n",
    "\n",
    "\n",
    "pivot_df = df_merged.pivot(index='region', columns='year', values='no_accidents')\n",
    "pivot_df.loc[:,[2016, 2017]].plot.bar(stacked=True, color=colors, figsize=(10,7));\n",
    "plt.title('No. of accidents per region in 2016 & 2017', size=20)\n",
    "pivot_df = df_merged.pivot(index='region', columns='year', values='driving_licenses')\n",
    "pivot_df.loc[:,[2016, 2017]].plot.bar(stacked=True, color=colors, figsize=(10,7));\n",
    "plt.title('No. of issued licenses per region in 2016 & 2017', size=20)"
   ]
  },
  {
   "cell_type": "code",
   "execution_count": 558,
   "metadata": {},
   "outputs": [
    {
     "data": {
      "text/html": [
       "<div>\n",
       "<style scoped>\n",
       "    .dataframe tbody tr th:only-of-type {\n",
       "        vertical-align: middle;\n",
       "    }\n",
       "\n",
       "    .dataframe tbody tr th {\n",
       "        vertical-align: top;\n",
       "    }\n",
       "\n",
       "    .dataframe thead th {\n",
       "        text-align: right;\n",
       "    }\n",
       "</style>\n",
       "<table border=\"1\" class=\"dataframe\">\n",
       "  <thead>\n",
       "    <tr style=\"text-align: right;\">\n",
       "      <th></th>\n",
       "      <th>Region</th>\n",
       "      <th>Number of accidents</th>\n",
       "      <th>Precentage of injured (per 1000 accident)</th>\n",
       "      <th>Precentage of dead (per 1000 accident)</th>\n",
       "      <th>Year</th>\n",
       "    </tr>\n",
       "  </thead>\n",
       "  <tbody>\n",
       "    <tr>\n",
       "      <th>0</th>\n",
       "      <td>Riyadh</td>\n",
       "      <td>141736</td>\n",
       "      <td>3.369052</td>\n",
       "      <td>9.911608</td>\n",
       "      <td>2016</td>\n",
       "    </tr>\n",
       "    <tr>\n",
       "      <th>1</th>\n",
       "      <td>Makkah</td>\n",
       "      <td>134838</td>\n",
       "      <td>1.088896</td>\n",
       "      <td>6.011502</td>\n",
       "      <td>2016</td>\n",
       "    </tr>\n",
       "    <tr>\n",
       "      <th>2</th>\n",
       "      <td>Eastern</td>\n",
       "      <td>101619</td>\n",
       "      <td>2.076824</td>\n",
       "      <td>9.130189</td>\n",
       "      <td>2016</td>\n",
       "    </tr>\n",
       "    <tr>\n",
       "      <th>3</th>\n",
       "      <td>Riyadh</td>\n",
       "      <td>99925</td>\n",
       "      <td>2.200991</td>\n",
       "      <td>7.142602</td>\n",
       "      <td>2017</td>\n",
       "    </tr>\n",
       "    <tr>\n",
       "      <th>4</th>\n",
       "      <td>Makkah</td>\n",
       "      <td>145541</td>\n",
       "      <td>1.370056</td>\n",
       "      <td>8.869043</td>\n",
       "      <td>2017</td>\n",
       "    </tr>\n",
       "    <tr>\n",
       "      <th>5</th>\n",
       "      <td>Eastern</td>\n",
       "      <td>81433</td>\n",
       "      <td>1.999337</td>\n",
       "      <td>8.456179</td>\n",
       "      <td>2017</td>\n",
       "    </tr>\n",
       "  </tbody>\n",
       "</table>\n",
       "</div>"
      ],
      "text/plain": [
       "    Region  Number of accidents  Precentage of injured (per 1000 accident)  \\\n",
       "0   Riyadh               141736                                   3.369052   \n",
       "1   Makkah               134838                                   1.088896   \n",
       "2  Eastern               101619                                   2.076824   \n",
       "3   Riyadh                99925                                   2.200991   \n",
       "4   Makkah               145541                                   1.370056   \n",
       "5  Eastern                81433                                   1.999337   \n",
       "\n",
       "   Precentage of dead (per 1000 accident)  Year  \n",
       "0                                9.911608  2016  \n",
       "1                                6.011502  2016  \n",
       "2                                9.130189  2016  \n",
       "3                                7.142602  2017  \n",
       "4                                8.869043  2017  \n",
       "5                                8.456179  2017  "
      ]
     },
     "execution_count": 558,
     "metadata": {},
     "output_type": "execute_result"
    }
   ],
   "source": [
    "# By picking the highest 3 cities, let's take some insights\n",
    "\n",
    "\n",
    "\n",
    "data_2016 = { #'Year':['2016', '2017'], \n",
    "        'Region':['Riyadh', 'Makkah', 'Eastern'], \n",
    "        'Number of accidents':[\n",
    "                            (df_merged.loc[df_merged['region'] == 'Riyadh']['no_accidents']).iloc[0], \n",
    "                            (df_merged.loc[df_merged['region'] == 'Makkah']['no_accidents']).iloc[0],\\\n",
    "                            (df_merged.loc[df_merged['region'] == 'Eastern']['no_accidents']).iloc[0]\n",
    "                              ], \n",
    "        'Precentage of injured (per 1000 accident)':[\n",
    "                    ((df_merged.loc[df_merged['region'] == 'Riyadh']['no_accidents'] / \\\n",
    "                          (df_merged.loc[df_merged['region'] == 'Riyadh']['no_injured'] * 1000)) * 100).iloc[0], \n",
    "                    ((df_merged.loc[df_merged['region'] == 'Makkah']['no_accidents'] / \\\n",
    "                          (df_merged.loc[df_merged['region'] == 'Makkah']['no_injured'] * 1000)) * 100).iloc[0],\\\n",
    "                    ((df_merged.loc[df_merged['region'] == 'Eastern']['no_accidents'] / \\\n",
    "                          (df_merged.loc[df_merged['region'] == 'Eastern']['no_injured'] * 1000)) * 100).iloc[0]], \n",
    "        'Precentage of dead (per 1000 accident)':[\n",
    "                        ((df_merged.loc[df_merged['region'] == 'Riyadh']['no_accidents'] / \\\n",
    "                                  (df_merged.loc[df_merged['region'] == 'Riyadh']['no_dead'] * 1000)) * 100).iloc[0], \n",
    "                            ((df_merged.loc[df_merged['region'] == 'Makkah']['no_accidents'] / \\\n",
    "                                  (df_merged.loc[df_merged['region'] == 'Makkah']['no_dead'] * 1000)) * 100).iloc[0],\\\n",
    "                            ((df_merged.loc[df_merged['region'] == 'Eastern']['no_accidents'] / \\\n",
    "                                  (df_merged.loc[df_merged['region'] == 'Eastern']['no_dead'] * 1000)) * 100).iloc[0]\n",
    "        ], 'Year':[\n",
    "                       '2016','2016','2016']} \n",
    "\n",
    "data_2017 = {\n",
    "        'Region':['Riyadh', 'Makkah', 'Eastern'], \n",
    "        'Number of accidents':[\n",
    "                            (df_merged.loc[df_merged['region'] == 'Riyadh']['no_accidents']).iloc[1], \n",
    "                            (df_merged.loc[df_merged['region'] == 'Makkah']['no_accidents']).iloc[1],\\\n",
    "                            (df_merged.loc[df_merged['region'] == 'Eastern']['no_accidents']).iloc[1]\n",
    "                              ], \n",
    "        'Precentage of injured (per 1000 accident)':[\n",
    "                    ((df_merged.loc[df_merged['region'] == 'Riyadh']['no_accidents'] / \\\n",
    "                          (df_merged.loc[df_merged['region'] == 'Riyadh']['no_injured'] * 1000)) * 100).iloc[1], \n",
    "                    ((df_merged.loc[df_merged['region'] == 'Makkah']['no_accidents'] / \\\n",
    "                          (df_merged.loc[df_merged['region'] == 'Makkah']['no_injured'] * 1000)) * 100).iloc[1],\\\n",
    "                    ((df_merged.loc[df_merged['region'] == 'Eastern']['no_accidents'] / \\\n",
    "                          (df_merged.loc[df_merged['region'] == 'Eastern']['no_injured'] * 1000)) * 100).iloc[1]], \n",
    "        'Precentage of dead (per 1000 accident)':[\n",
    "                        ((df_merged.loc[df_merged['region'] == 'Riyadh']['no_accidents'] / \\\n",
    "                                  (df_merged.loc[df_merged['region'] == 'Riyadh']['no_dead'] * 1000)) * 100).iloc[1], \n",
    "                            ((df_merged.loc[df_merged['region'] == 'Makkah']['no_accidents'] / \\\n",
    "                                  (df_merged.loc[df_merged['region'] == 'Makkah']['no_dead'] * 1000)) * 100).iloc[1],\\\n",
    "                            ((df_merged.loc[df_merged['region'] == 'Eastern']['no_accidents'] / \\\n",
    "                                  (df_merged.loc[df_merged['region'] == 'Eastern']['no_dead'] * 1000)) * 100).iloc[1]\n",
    "        ] , 'Year':[\n",
    "                       '2017','2017','2017']\n",
    "        } \n",
    "\n",
    "\n",
    "df1 = pd.DataFrame(data_2016) \n",
    "df2 = pd.DataFrame(data_2017) \n",
    "df = pd.concat([df1, df2])\n",
    "df.reset_index(drop=True)   "
   ]
  },
  {
   "cell_type": "code",
   "execution_count": 614,
   "metadata": {},
   "outputs": [
    {
     "data": {
      "text/plain": [
       "<Figure size 720x720 with 0 Axes>"
      ]
     },
     "metadata": {},
     "output_type": "display_data"
    },
    {
     "data": {
      "image/png": "[encoded data removed]",
      "text/plain": [
       "<Figure size 936x576 with 1 Axes>"
      ]
     },
     "metadata": {
      "needs_background": "light"
     },
     "output_type": "display_data"
    }
   ],
   "source": [
    "plt.figure(figsize=(10,10))\n",
    "plt.rcParams[\"figure.figsize\"] = (13,8)\n",
    "t_licenses[t_licenses['region'] == 'Riyadh'].sort_values('year').plot('year','driving_licenses',kind='barh')\n",
    "plt.show()\n"
   ]
  },
  {
   "cell_type": "markdown",
   "metadata": {},
   "source": [
    "## Conclusions and Recommendations"
   ]
  },
  {
   "cell_type": "markdown",
   "metadata": {},
   "source": [
    "- Based on your exploration of the data, what are you key takeaways and recommendations?\n",
    "- Are there additional data you desire that would better inform your investigations?"
   ]
  },
  {
   "cell_type": "raw",
   "metadata": {},
   "source": [
    "Answer:\n",
    "\n",
    "- Implementing penalties have decreased the number of accidents by huge number from 140 to 100 thousand hundred, while the number increased by 9.2 percent in Makkah which raise big question ..\n",
    "- Detailed info about accidents would be greate, since there is ambiguity about type of accidents and time.\n",
    "- There was big drop 2014 and 2015 in number of issued license, this have to do some insights because the number doesn't maka sense to tell the number in 2015 of licenses is less than 50000 for capital city with population around 8 milions."
   ]
  }
 ],
 "metadata": {
  "anaconda-cloud": {},
  "kernelspec": {
   "display_name": "Python 3",
   "language": "python",
   "name": "python3"
  },
  "language_info": {
   "codemirror_mode": {
    "name": "ipython",
    "version": 3
   },
   "file_extension": ".py",
   "mimetype": "text/x-python",
   "name": "python",
   "nbconvert_exporter": "python",
   "pygments_lexer": "ipython3",
   "version": "3.6.5"
  }
 },
 "nbformat": 4,
 "nbformat_minor": 2
}
